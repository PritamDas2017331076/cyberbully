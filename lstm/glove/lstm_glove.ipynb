{
  "metadata": {
    "kernelspec": {
      "name": "python3",
      "display_name": "Python 3",
      "language": "python"
    },
    "language_info": {
      "name": "python",
      "version": "3.10.12",
      "mimetype": "text/x-python",
      "codemirror_mode": {
        "name": "ipython",
        "version": 3
      },
      "pygments_lexer": "ipython3",
      "nbconvert_exporter": "python",
      "file_extension": ".py"
    },
    "colab": {
      "private_outputs": true,
      "provenance": [],
      "gpuType": "T4"
    },
    "accelerator": "GPU",
    "kaggle": {
      "accelerator": "none",
      "dataSources": [
        {
          "sourceId": 8240,
          "sourceType": "datasetVersion",
          "datasetId": 5504
        },
        {
          "sourceId": 30788,
          "sourceType": "datasetVersion",
          "datasetId": 22354
        },
        {
          "sourceId": 4578619,
          "sourceType": "datasetVersion",
          "datasetId": 2671003
        }
      ],
      "isInternetEnabled": true,
      "language": "python",
      "sourceType": "notebook",
      "isGpuEnabled": false
    }
  },
  "nbformat_minor": 0,
  "nbformat": 4,
  "cells": [
    {
      "cell_type": "code",
      "source": [
        "!pip install gensim"
      ],
      "metadata": {
        "id": "bbg_R6QGtu81",
        "trusted": true,
        "execution": {
          "iopub.status.busy": "2025-02-10T16:45:13.708852Z",
          "iopub.execute_input": "2025-02-10T16:45:13.709221Z",
          "iopub.status.idle": "2025-02-10T16:45:18.443912Z",
          "shell.execute_reply.started": "2025-02-10T16:45:13.709193Z",
          "shell.execute_reply": "2025-02-10T16:45:18.440852Z"
        }
      },
      "outputs": [],
      "execution_count": null
    },
    {
      "cell_type": "code",
      "source": [
        "!pip install nltk"
      ],
      "metadata": {
        "id": "1qQvaeq_woO6",
        "trusted": true,
        "execution": {
          "iopub.status.busy": "2025-02-10T16:45:18.447033Z",
          "iopub.execute_input": "2025-02-10T16:45:18.447555Z",
          "iopub.status.idle": "2025-02-10T16:45:24.263229Z",
          "shell.execute_reply.started": "2025-02-10T16:45:18.447486Z",
          "shell.execute_reply": "2025-02-10T16:45:24.261796Z"
        }
      },
      "outputs": [],
      "execution_count": null
    },
    {
      "cell_type": "code",
      "source": [
        "!pip install tensorflow"
      ],
      "metadata": {
        "id": "6agcr4rlYTyY",
        "trusted": true,
        "execution": {
          "iopub.status.busy": "2025-02-10T16:45:24.265874Z",
          "iopub.execute_input": "2025-02-10T16:45:24.266351Z",
          "iopub.status.idle": "2025-02-10T16:45:29.223713Z",
          "shell.execute_reply.started": "2025-02-10T16:45:24.266301Z",
          "shell.execute_reply": "2025-02-10T16:45:29.222256Z"
        }
      },
      "outputs": [],
      "execution_count": null
    },
    {
      "cell_type": "code",
      "source": [
        "import pandas as pd\n",
        "import numpy as np\n",
        "import re\n",
        "import string\n",
        "import gensim\n",
        "from nltk.corpus import stopwords\n",
        "from gensim.parsing.preprocessing import remove_stopwords\n",
        "import matplotlib.pyplot as plt\n",
        "from sklearn.svm import SVC\n",
        "from sklearn.naive_bayes import GaussianNB\n",
        "from sklearn.naive_bayes import MultinomialNB\n",
        "from sklearn.model_selection import train_test_split\n",
        "from sklearn.metrics import accuracy_score\n",
        "from sklearn.linear_model import LogisticRegression\n",
        "from sklearn import metrics\n",
        "import numpy as np\n",
        "import random\n",
        "import matplotlib.pyplot as plt\n",
        "import seaborn as sns\n",
        "from sklearn.metrics import classification_report\n",
        "from sklearn.metrics import roc_curve, auc\n",
        "from sklearn.preprocessing import label_binarize\n",
        "from sklearn.ensemble import GradientBoostingClassifier\n",
        "\n",
        "import tensorflow as tf\n",
        "from tensorflow.keras import regularizers\n",
        "from tensorflow.keras.models import Sequential,Model,load_model\n",
        "from tensorflow.keras.layers import Embedding, Conv1D, LSTM, Bidirectional, GlobalMaxPooling1D, Dense, Dropout, Conv2D, concatenate, MaxPooling2D, Input, Flatten, Reshape\n",
        "from tensorflow.keras.preprocessing.text import Tokenizer\n",
        "from tensorflow.keras.preprocessing.sequence import pad_sequences\n",
        "from tensorflow.keras.utils import to_categorical\n",
        "\n",
        "from tensorflow.keras.callbacks import EarlyStopping,ModelCheckpoint\n",
        "from tensorflow.keras.optimizers import SGD, RMSprop, Adagrad, Adadelta, Adam, Adamax, Nadam\n",
        "\n"
      ],
      "metadata": {
        "id": "gLbCI2hLKd7T",
        "trusted": true,
        "execution": {
          "iopub.status.busy": "2025-02-10T16:45:29.226912Z",
          "iopub.execute_input": "2025-02-10T16:45:29.227801Z",
          "iopub.status.idle": "2025-02-10T16:45:45.828427Z",
          "shell.execute_reply.started": "2025-02-10T16:45:29.227764Z",
          "shell.execute_reply": "2025-02-10T16:45:45.827277Z"
        }
      },
      "outputs": [],
      "execution_count": null
    },
    {
      "cell_type": "code",
      "source": [
        "random.seed(42)\n",
        "np.random.seed(42)\n",
        "tf.random.set_seed(42)"
      ],
      "metadata": {
        "id": "SbW4Sof9zyCV",
        "trusted": true,
        "execution": {
          "iopub.status.busy": "2025-02-10T16:45:45.829685Z",
          "iopub.execute_input": "2025-02-10T16:45:45.830547Z",
          "iopub.status.idle": "2025-02-10T16:45:45.836286Z",
          "shell.execute_reply.started": "2025-02-10T16:45:45.830504Z",
          "shell.execute_reply": "2025-02-10T16:45:45.835207Z"
        }
      },
      "outputs": [],
      "execution_count": null
    },
    {
      "cell_type": "code",
      "source": [
        "from google.colab import drive\n",
        "drive.mount('/content/drive')"
      ],
      "metadata": {
        "id": "H0mVSfoaERXl"
      },
      "execution_count": null,
      "outputs": []
    },
    {
      "cell_type": "code",
      "source": [
        "import nltk\n",
        "from nltk.stem import WordNetLemmatizer\n",
        "\n",
        "nltk.download('wordnet')\n",
        "nltk.download('stopwords')\n",
        "nltk.download('omw-1.4')\n",
        "nltk.download('punkt')\n",
        "nltk.download('punkt_tab')"
      ],
      "metadata": {
        "id": "qXTdQ0isESra"
      },
      "execution_count": null,
      "outputs": []
    },
    {
      "cell_type": "code",
      "source": [
        "bully_df = pd.read_csv('/content/drive/MyDrive/datasets/cyberbullying_tweets.csv')"
      ],
      "metadata": {
        "id": "xAtsEEfmKqpl",
        "trusted": true,
        "execution": {
          "iopub.status.busy": "2025-02-10T16:45:45.837333Z",
          "iopub.execute_input": "2025-02-10T16:45:45.837739Z",
          "iopub.status.idle": "2025-02-10T16:45:46.043866Z",
          "shell.execute_reply.started": "2025-02-10T16:45:45.837669Z",
          "shell.execute_reply": "2025-02-10T16:45:46.042638Z"
        }
      },
      "outputs": [],
      "execution_count": null
    },
    {
      "cell_type": "code",
      "source": [
        "def cleantxt(txt):\n",
        "    stpw = stopwords.words('english')\n",
        "\n",
        "    stpw.extend(['www','http','utc'])\n",
        "    stpw = set(stpw)\n",
        "    txt = re.sub(r\"\\n\", \" \", txt)\n",
        "    txt = re.sub(\"[\\<\\[].*?[\\>\\]]\", \" \", txt)\n",
        "    txt = txt.lower()\n",
        "    txt = re.sub(r\"[^a-zA-Z ]\", \" \", txt)\n",
        "    txt = re.sub(r\"\\b\\w{1,3}\\b\", \" \",txt)\n",
        "    txt = \" \".join([x for x in txt.split() if x not in stpw])\n",
        "    return txt"
      ],
      "metadata": {
        "id": "L3Adpqa2Kbk0",
        "trusted": true,
        "execution": {
          "iopub.status.busy": "2025-02-10T16:45:46.044987Z",
          "iopub.execute_input": "2025-02-10T16:45:46.045320Z",
          "iopub.status.idle": "2025-02-10T16:45:46.051488Z",
          "shell.execute_reply.started": "2025-02-10T16:45:46.045296Z",
          "shell.execute_reply": "2025-02-10T16:45:46.050357Z"
        }
      },
      "outputs": [],
      "execution_count": null
    },
    {
      "cell_type": "code",
      "source": [
        "bully_df.tail()"
      ],
      "metadata": {
        "id": "qv__oDjwLrpc",
        "trusted": true,
        "execution": {
          "iopub.status.busy": "2025-02-10T16:45:46.054704Z",
          "iopub.execute_input": "2025-02-10T16:45:46.055052Z",
          "iopub.status.idle": "2025-02-10T16:45:46.079485Z",
          "shell.execute_reply.started": "2025-02-10T16:45:46.055024Z",
          "shell.execute_reply": "2025-02-10T16:45:46.078259Z"
        }
      },
      "outputs": [],
      "execution_count": null
    },
    {
      "cell_type": "code",
      "source": [
        "bully_df = bully_df.rename(columns={'tweet_text':'tweet','cyberbullying_type':'type'})"
      ],
      "metadata": {
        "id": "rK7eGalzMyI-",
        "trusted": true,
        "execution": {
          "iopub.status.busy": "2025-02-10T16:45:46.081421Z",
          "iopub.execute_input": "2025-02-10T16:45:46.081766Z",
          "iopub.status.idle": "2025-02-10T16:45:46.096091Z",
          "shell.execute_reply.started": "2025-02-10T16:45:46.081737Z",
          "shell.execute_reply": "2025-02-10T16:45:46.094861Z"
        }
      },
      "outputs": [],
      "execution_count": null
    },
    {
      "cell_type": "code",
      "source": [
        "bully_df.head()"
      ],
      "metadata": {
        "id": "IgRWiOquNWe_",
        "trusted": true,
        "execution": {
          "iopub.status.busy": "2025-02-10T16:45:46.097332Z",
          "iopub.execute_input": "2025-02-10T16:45:46.097839Z",
          "iopub.status.idle": "2025-02-10T16:45:46.123088Z",
          "shell.execute_reply.started": "2025-02-10T16:45:46.097792Z",
          "shell.execute_reply": "2025-02-10T16:45:46.121946Z"
        }
      },
      "outputs": [],
      "execution_count": null
    },
    {
      "cell_type": "code",
      "source": [
        "bully_df['tweet'] = bully_df['tweet'].apply(cleantxt)"
      ],
      "metadata": {
        "id": "78N_Ju5OmvEA",
        "trusted": true,
        "execution": {
          "iopub.status.busy": "2025-02-10T16:45:46.124175Z",
          "iopub.execute_input": "2025-02-10T16:45:46.124489Z",
          "iopub.status.idle": "2025-02-10T16:45:53.501954Z",
          "shell.execute_reply.started": "2025-02-10T16:45:46.124453Z",
          "shell.execute_reply": "2025-02-10T16:45:53.500970Z"
        }
      },
      "outputs": [],
      "execution_count": null
    },
    {
      "cell_type": "code",
      "source": [
        "bully_df.head()"
      ],
      "metadata": {
        "id": "2i8p2hO4nYqK",
        "trusted": true,
        "execution": {
          "iopub.status.busy": "2025-02-10T16:45:53.502886Z",
          "iopub.execute_input": "2025-02-10T16:45:53.503185Z",
          "iopub.status.idle": "2025-02-10T16:45:53.513408Z",
          "shell.execute_reply.started": "2025-02-10T16:45:53.503159Z",
          "shell.execute_reply": "2025-02-10T16:45:53.512218Z"
        }
      },
      "outputs": [],
      "execution_count": null
    },
    {
      "cell_type": "code",
      "source": [
        "bully_df.tail(20)"
      ],
      "metadata": {
        "id": "qMCU1zSdKfoU",
        "trusted": true,
        "execution": {
          "iopub.status.busy": "2025-02-10T16:45:53.514628Z",
          "iopub.execute_input": "2025-02-10T16:45:53.515071Z",
          "iopub.status.idle": "2025-02-10T16:45:53.539861Z",
          "shell.execute_reply.started": "2025-02-10T16:45:53.515029Z",
          "shell.execute_reply": "2025-02-10T16:45:53.538557Z"
        }
      },
      "outputs": [],
      "execution_count": null
    },
    {
      "cell_type": "code",
      "source": [
        "import sys\n",
        "import nltk\n",
        "\n",
        "print(\"Python Version:\", sys.version)\n",
        "print(\"NLTK Version:\", nltk.__version__)"
      ],
      "metadata": {
        "trusted": true,
        "execution": {
          "iopub.status.busy": "2025-02-10T16:45:53.541057Z",
          "iopub.execute_input": "2025-02-10T16:45:53.541467Z",
          "iopub.status.idle": "2025-02-10T16:45:53.560187Z",
          "shell.execute_reply.started": "2025-02-10T16:45:53.541433Z",
          "shell.execute_reply": "2025-02-10T16:45:53.558896Z"
        },
        "id": "pRMynQ4XD4cE"
      },
      "outputs": [],
      "execution_count": null
    },
    {
      "cell_type": "code",
      "source": [
        "import nltk\n",
        "import zipfile\n",
        "import os\n",
        "from nltk.corpus import wordnet\n",
        "from nltk.stem import WordNetLemmatizer\n",
        "\n",
        "print(nltk.data.path)\n",
        "\n",
        "# nltk_data_path = \"/root/nltk_data/corpora/corpora/corpora\"\n",
        "# os.makedirs(nltk_data_path, exist_ok=True)\n",
        "\n",
        "# # Set the environment variable\n",
        "# os.environ['NLTK_DATA'] = nltk_data_path\n",
        "# nltk.data.path.append(nltk_data_path)\n",
        "\n",
        "\n",
        "# nltk.download('wordnet', download_dir=nltk_data_path)\n",
        "# nltk.download('stopwords', download_dir=nltk_data_path)\n",
        "# nltk.download('omw-1.4', download_dir=nltk_data_path)\n",
        "# nltk.download('punkt', download_dir=nltk_data_path)\n",
        "# nltk.download('punkt_tab')\n",
        "\n",
        "# wordnet_zip_path = os.path.join(nltk_data_path, \"wordnet.zip\")\n",
        "# extract_path = os.path.join(nltk_data_path)\n",
        "\n",
        "# # Extract the ZIP file\n",
        "# with zipfile.ZipFile(wordnet_zip_path, 'r') as zip_ref:\n",
        "#     zip_ref.extractall(extract_path)\n",
        "\n",
        "# try:\n",
        "#     print(wordnet.synsets(\"computer\"))  # Test if WordNet works\n",
        "# except LookupError:\n",
        "#     print(\"WordNet not found!\")\n",
        "\n",
        "\n",
        "\n",
        "def lemmatize_sentence(sentence):\n",
        "    lemmatizer = WordNetLemmatizer()\n",
        "    tokens = nltk.word_tokenize(sentence)\n",
        "    lemmatized_words = [lemmatizer.lemmatize(word, pos='v') for word in tokens]\n",
        "    return ' '.join(lemmatized_words)\n",
        "\n",
        "bully_df['tweet'] = bully_df['tweet'].apply(lemmatize_sentence)"
      ],
      "metadata": {
        "id": "KW50QMqYxbft",
        "trusted": true,
        "execution": {
          "iopub.status.busy": "2025-02-10T16:46:53.962137Z",
          "iopub.execute_input": "2025-02-10T16:46:53.962488Z",
          "iopub.status.idle": "2025-02-10T16:47:04.456244Z",
          "shell.execute_reply.started": "2025-02-10T16:46:53.962461Z",
          "shell.execute_reply": "2025-02-10T16:47:04.455102Z"
        }
      },
      "outputs": [],
      "execution_count": null
    },
    {
      "cell_type": "code",
      "source": [
        "bully_df.tail(10)"
      ],
      "metadata": {
        "id": "xmEJCFYTyveB",
        "trusted": true,
        "execution": {
          "iopub.status.busy": "2025-02-10T16:47:25.092649Z",
          "iopub.execute_input": "2025-02-10T16:47:25.093057Z",
          "iopub.status.idle": "2025-02-10T16:47:25.103964Z",
          "shell.execute_reply.started": "2025-02-10T16:47:25.093024Z",
          "shell.execute_reply": "2025-02-10T16:47:25.102868Z"
        }
      },
      "outputs": [],
      "execution_count": null
    },
    {
      "cell_type": "code",
      "source": [
        "bully_df.tail(10)"
      ],
      "metadata": {
        "id": "cMSApaanRz3m",
        "trusted": true,
        "execution": {
          "iopub.status.busy": "2025-02-10T16:45:54.498857Z",
          "iopub.status.idle": "2025-02-10T16:45:54.499356Z",
          "shell.execute_reply": "2025-02-10T16:45:54.499150Z"
        }
      },
      "outputs": [],
      "execution_count": null
    },
    {
      "cell_type": "code",
      "source": [
        "# from wordcloud import WordCloud\n",
        "# negative_words = ' '.join([text for text in bully_df['tweet'][bully_df['type'] != 'not_cyberbullying']])\n",
        "# wordcloud = WordCloud(width=800, height=500,\n",
        "# random_state=21, max_font_size=110).generate(negative_words)\n",
        "# plt.figure(figsize=(10, 7))\n",
        "# plt.imshow(wordcloud, interpolation=\"bilinear\")\n",
        "# plt.axis('off')\n",
        "# plt.show()"
      ],
      "metadata": {
        "id": "dizrm6CF2kC5",
        "trusted": true,
        "execution": {
          "iopub.status.busy": "2025-02-10T16:45:54.500511Z",
          "iopub.status.idle": "2025-02-10T16:45:54.501044Z",
          "shell.execute_reply": "2025-02-10T16:45:54.500819Z"
        }
      },
      "outputs": [],
      "execution_count": null
    },
    {
      "cell_type": "code",
      "source": [
        "bad_word = ['fuck','dumb','black','nigger','terrorist','bully','stupid','rape','joke','racism','islam','idiot','isis','bitch','hate','muslim','racist','hindu','christian','kill','sexist','shit','wrong','terrorism']"
      ],
      "metadata": {
        "id": "AAxe1rddDdaN",
        "trusted": true,
        "execution": {
          "iopub.status.busy": "2025-02-10T16:47:29.704442Z",
          "iopub.execute_input": "2025-02-10T16:47:29.704844Z",
          "iopub.status.idle": "2025-02-10T16:47:29.710004Z",
          "shell.execute_reply.started": "2025-02-10T16:47:29.704812Z",
          "shell.execute_reply": "2025-02-10T16:47:29.708676Z"
        }
      },
      "outputs": [],
      "execution_count": null
    },
    {
      "cell_type": "code",
      "source": [
        "bully_df['tweetsplit'] = bully_df['tweet'].apply(lambda x: x.split())\n",
        "# bully_df['tweet'] = bully_df['tweet'].apply(lambda x: ([w for w in x if len(w)>=3]))\n",
        "# bully_df['tweetcnn'] = bully_df['tweet'].apply(lambda x: ' '.)"
      ],
      "metadata": {
        "id": "QYcyGTAn5RPd",
        "trusted": true,
        "execution": {
          "iopub.status.busy": "2025-02-10T16:47:31.622755Z",
          "iopub.execute_input": "2025-02-10T16:47:31.623142Z",
          "iopub.status.idle": "2025-02-10T16:47:31.777640Z",
          "shell.execute_reply.started": "2025-02-10T16:47:31.623115Z",
          "shell.execute_reply": "2025-02-10T16:47:31.776048Z"
        }
      },
      "outputs": [],
      "execution_count": null
    },
    {
      "cell_type": "code",
      "source": [
        "bully_df.tail(20)"
      ],
      "metadata": {
        "id": "sW5JdP8n5ang",
        "trusted": true,
        "execution": {
          "iopub.status.busy": "2025-02-10T16:45:54.505232Z",
          "iopub.status.idle": "2025-02-10T16:45:54.505654Z",
          "shell.execute_reply": "2025-02-10T16:45:54.505428Z"
        }
      },
      "outputs": [],
      "execution_count": null
    },
    {
      "cell_type": "code",
      "source": [
        "# gender religion age ethnicity other_cyberbullying\n",
        "not_bully_df = bully_df[bully_df['type'] == 'not_cyberbullying']\n",
        "gender_bully_df = bully_df[bully_df['type'] == 'gender']\n",
        "religion_bully_df = bully_df[bully_df['type'] == 'religion']\n",
        "age_bully_df = bully_df[bully_df['type'] == 'age']\n",
        "ethnicity_bully_df = bully_df[bully_df['type'] == 'ethnicity']\n",
        "other_bully_df = bully_df[bully_df['type'] == 'other_cyberbullying']\n",
        "all_bully_df = bully_df[bully_df['type'] != 'not_cyberbullying']\n",
        "\n",
        "print(not_bully_df.shape)\n",
        "print(gender_bully_df.shape)\n",
        "print(religion_bully_df.shape)\n",
        "print(age_bully_df.shape)\n",
        "print(ethnicity_bully_df.shape)\n",
        "print(other_bully_df.shape)\n",
        "print(all_bully_df.shape)"
      ],
      "metadata": {
        "id": "yHyA-P1YXi2U",
        "trusted": true,
        "execution": {
          "iopub.status.busy": "2025-02-10T16:47:34.941716Z",
          "iopub.execute_input": "2025-02-10T16:47:34.942133Z",
          "iopub.status.idle": "2025-02-10T16:47:34.996004Z",
          "shell.execute_reply.started": "2025-02-10T16:47:34.942101Z",
          "shell.execute_reply": "2025-02-10T16:47:34.994743Z"
        }
      },
      "outputs": [],
      "execution_count": null
    },
    {
      "cell_type": "code",
      "source": [
        "not_bully_df.tail()"
      ],
      "metadata": {
        "id": "ZD49zXcIlvHc",
        "trusted": true,
        "execution": {
          "iopub.status.busy": "2025-02-10T16:45:54.508167Z",
          "iopub.status.idle": "2025-02-10T16:45:54.508533Z",
          "shell.execute_reply": "2025-02-10T16:45:54.508397Z"
        }
      },
      "outputs": [],
      "execution_count": null
    },
    {
      "cell_type": "code",
      "source": [
        "# sampled_not_bully_df = not_bully_df.sample(n=2000, random_state=42)\n",
        "# sampled_gender_bully_df = gender_bully_df.sample(n=1200, random_state=42)\n",
        "# sampled_age_bully_df = age_bully_df.sample(n=1200, random_state=42)\n",
        "# sampled_religion_bully_df = religion_bully_df.sample(n=1200, random_state=42)\n",
        "# sampled_ethnicity_bully_df = ethnicity_bully_df.sample(n=1200, random_state=42)\n",
        "# sampled_other_bully_df = other_bully_df.sample(n=1200, random_state=42)\n",
        "\n",
        "sampled_not_bully_df = not_bully_df.sample(n=7000, random_state=42)\n",
        "sampled_gender_bully_df = gender_bully_df.sample(n=1750, random_state=42)\n",
        "sampled_age_bully_df = age_bully_df.sample(n=1750, random_state=42)\n",
        "sampled_religion_bully_df = religion_bully_df.sample(n=1750, random_state=42)\n",
        "sampled_ethnicity_bully_df = ethnicity_bully_df.sample(n=1750, random_state=42)\n",
        "sampled_other_bully_df = []\n",
        "\n",
        "sampled2_not_bully_df = not_bully_df.sample(n=3000, random_state=42)\n",
        "sampled2_gender_bully_df = gender_bully_df.sample(n=600, random_state=42)\n",
        "sampled2_age_bully_df = age_bully_df.sample(n=600, random_state=42)\n",
        "sampled2_religion_bully_df = religion_bully_df.sample(n=600, random_state=42)\n",
        "sampled2_ethnicity_bully_df = ethnicity_bully_df.sample(n=600, random_state=42)\n",
        "sampled2_other_bully_df = other_bully_df.sample(n=600, random_state=42)"
      ],
      "metadata": {
        "id": "DSVnf6TiayHR",
        "trusted": true,
        "execution": {
          "iopub.status.busy": "2025-02-10T16:47:38.762464Z",
          "iopub.execute_input": "2025-02-10T16:47:38.762866Z",
          "iopub.status.idle": "2025-02-10T16:47:38.788571Z",
          "shell.execute_reply.started": "2025-02-10T16:47:38.762833Z",
          "shell.execute_reply": "2025-02-10T16:47:38.786971Z"
        }
      },
      "outputs": [],
      "execution_count": null
    },
    {
      "cell_type": "code",
      "source": [
        "sampled_gender_bully_df.shape"
      ],
      "metadata": {
        "id": "N4wassWhmlxi",
        "trusted": true,
        "execution": {
          "iopub.status.busy": "2025-02-10T16:45:54.511411Z",
          "iopub.status.idle": "2025-02-10T16:45:54.511833Z",
          "shell.execute_reply": "2025-02-10T16:45:54.511688Z"
        }
      },
      "outputs": [],
      "execution_count": null
    },
    {
      "cell_type": "code",
      "source": [
        "sampled_gender_bully_df.tail()"
      ],
      "metadata": {
        "id": "tjcB7Thcc9Kn",
        "trusted": true,
        "execution": {
          "iopub.status.busy": "2025-02-10T16:45:54.512522Z",
          "iopub.status.idle": "2025-02-10T16:45:54.513464Z",
          "shell.execute_reply": "2025-02-10T16:45:54.513320Z"
        }
      },
      "outputs": [],
      "execution_count": null
    },
    {
      "cell_type": "code",
      "source": [
        "final_df = pd.concat([sampled_not_bully_df, sampled_gender_bully_df, sampled_age_bully_df, sampled_religion_bully_df, sampled_ethnicity_bully_df], ignore_index=True)\n",
        "# final_df['tweet'] = final_df['tweetsplit'].apply(lambda x: ([w for w in x if len(w)>=3]))"
      ],
      "metadata": {
        "id": "l6EbatYVdj5p",
        "trusted": true,
        "execution": {
          "iopub.status.busy": "2025-02-10T16:47:45.339573Z",
          "iopub.execute_input": "2025-02-10T16:47:45.340130Z",
          "iopub.status.idle": "2025-02-10T16:47:45.348773Z",
          "shell.execute_reply.started": "2025-02-10T16:47:45.340085Z",
          "shell.execute_reply": "2025-02-10T16:47:45.347393Z"
        }
      },
      "outputs": [],
      "execution_count": null
    },
    {
      "cell_type": "code",
      "source": [
        "final2_df = pd.concat([sampled2_not_bully_df, sampled2_gender_bully_df, sampled2_age_bully_df, sampled2_religion_bully_df, sampled2_ethnicity_bully_df, sampled2_other_bully_df], ignore_index=True)\n",
        "# final2_df['tweet'] = final2_df['tweetsplit'].apply(lambda x: ([w for w in x if len(w)>=3]))"
      ],
      "metadata": {
        "id": "KQV57lCVbBL0",
        "trusted": true,
        "execution": {
          "iopub.status.busy": "2025-02-10T16:47:50.347459Z",
          "iopub.execute_input": "2025-02-10T16:47:50.347890Z",
          "iopub.status.idle": "2025-02-10T16:47:50.354025Z",
          "shell.execute_reply.started": "2025-02-10T16:47:50.347855Z",
          "shell.execute_reply": "2025-02-10T16:47:50.352751Z"
        }
      },
      "outputs": [],
      "execution_count": null
    },
    {
      "cell_type": "code",
      "source": [
        "final_df.tail(20)"
      ],
      "metadata": {
        "id": "akRd22tGt0Jx",
        "trusted": true,
        "execution": {
          "iopub.status.busy": "2025-02-10T16:45:54.517341Z",
          "iopub.status.idle": "2025-02-10T16:45:54.517836Z",
          "shell.execute_reply": "2025-02-10T16:45:54.517611Z"
        }
      },
      "outputs": [],
      "execution_count": null
    },
    {
      "cell_type": "code",
      "source": [
        "maximum_length=356\n",
        "# xx = pad_sequences(final_df['tweetcnn'], maxlen=maximum_length)\n"
      ],
      "metadata": {
        "id": "T_hdwbz9_3l_",
        "trusted": true,
        "execution": {
          "iopub.status.busy": "2025-02-10T16:47:54.901219Z",
          "iopub.execute_input": "2025-02-10T16:47:54.901583Z",
          "iopub.status.idle": "2025-02-10T16:47:54.906428Z",
          "shell.execute_reply.started": "2025-02-10T16:47:54.901555Z",
          "shell.execute_reply": "2025-02-10T16:47:54.905227Z"
        }
      },
      "outputs": [],
      "execution_count": null
    },
    {
      "cell_type": "code",
      "source": [
        "final2_df.loc[final2_df['type']!='not_cyberbullying','type'] = 'yes'\n",
        "final2_df.loc[final2_df['type']=='not_cyberbullying','type'] = 'no'"
      ],
      "metadata": {
        "id": "G5IAuGQ6ewbp",
        "trusted": true,
        "execution": {
          "iopub.status.busy": "2025-02-10T16:47:58.018845Z",
          "iopub.execute_input": "2025-02-10T16:47:58.019288Z",
          "iopub.status.idle": "2025-02-10T16:47:58.027126Z",
          "shell.execute_reply.started": "2025-02-10T16:47:58.019249Z",
          "shell.execute_reply": "2025-02-10T16:47:58.026076Z"
        }
      },
      "outputs": [],
      "execution_count": null
    },
    {
      "cell_type": "code",
      "source": [
        "# def allign(text):\n",
        "#   while len(text)<5:\n",
        "#     text.append('<oov>')\n",
        "#   return text\n",
        "\n",
        "# final_df['tweet'] = final_df['tweet'].apply(allign)\n",
        "# final2_df['tweet'] = final2_df['tweet'].apply(allign)"
      ],
      "metadata": {
        "id": "G_m7Hdtsvi80",
        "trusted": true,
        "execution": {
          "iopub.status.busy": "2025-02-10T16:45:54.521998Z",
          "iopub.status.idle": "2025-02-10T16:45:54.522401Z",
          "shell.execute_reply": "2025-02-10T16:45:54.522271Z"
        }
      },
      "outputs": [],
      "execution_count": null
    },
    {
      "cell_type": "code",
      "source": [
        "mapping = {'not_cyberbullying': 0, 'gender': 1, 'age': 1, 'ethnicity': 1, 'religion':1, 'other_cyberbullying':1}\n",
        "mapping2 = {'yes': 1, 'no': 0}"
      ],
      "metadata": {
        "id": "U-CCjtGAoq5u",
        "trusted": true,
        "execution": {
          "iopub.status.busy": "2025-02-10T16:48:03.510984Z",
          "iopub.execute_input": "2025-02-10T16:48:03.511350Z",
          "iopub.status.idle": "2025-02-10T16:48:03.516379Z",
          "shell.execute_reply.started": "2025-02-10T16:48:03.511322Z",
          "shell.execute_reply": "2025-02-10T16:48:03.515037Z"
        }
      },
      "outputs": [],
      "execution_count": null
    },
    {
      "cell_type": "code",
      "source": [
        "final_df.tail(20)"
      ],
      "metadata": {
        "id": "5vBSnJ_atL0m",
        "trusted": true,
        "execution": {
          "iopub.status.busy": "2025-02-10T16:45:54.525136Z",
          "iopub.status.idle": "2025-02-10T16:45:54.525513Z",
          "shell.execute_reply": "2025-02-10T16:45:54.525379Z"
        }
      },
      "outputs": [],
      "execution_count": null
    },
    {
      "cell_type": "code",
      "source": [
        "final_df['type'] = final_df['type'].map(mapping)\n",
        "final2_df['type'] = final2_df['type'].map(mapping2)"
      ],
      "metadata": {
        "id": "nmFaz-sRpZ6p",
        "trusted": true,
        "execution": {
          "iopub.status.busy": "2025-02-10T16:48:07.899248Z",
          "iopub.execute_input": "2025-02-10T16:48:07.899614Z",
          "iopub.status.idle": "2025-02-10T16:48:07.909229Z",
          "shell.execute_reply.started": "2025-02-10T16:48:07.899571Z",
          "shell.execute_reply": "2025-02-10T16:48:07.908076Z"
        }
      },
      "outputs": [],
      "execution_count": null
    },
    {
      "cell_type": "code",
      "source": [
        "final_df.tail(20)"
      ],
      "metadata": {
        "id": "1kzlydm-d0mb",
        "trusted": true,
        "execution": {
          "iopub.status.busy": "2025-02-10T16:48:13.707637Z",
          "iopub.execute_input": "2025-02-10T16:48:13.708112Z",
          "iopub.status.idle": "2025-02-10T16:48:13.725217Z",
          "shell.execute_reply.started": "2025-02-10T16:48:13.708054Z",
          "shell.execute_reply": "2025-02-10T16:48:13.724155Z"
        }
      },
      "outputs": [],
      "execution_count": null
    },
    {
      "cell_type": "code",
      "source": [
        "final_df.shape"
      ],
      "metadata": {
        "id": "MLrxzJXinJIM",
        "trusted": true,
        "execution": {
          "iopub.status.busy": "2025-02-10T16:48:18.004874Z",
          "iopub.execute_input": "2025-02-10T16:48:18.005333Z",
          "iopub.status.idle": "2025-02-10T16:48:18.011952Z",
          "shell.execute_reply.started": "2025-02-10T16:48:18.005294Z",
          "shell.execute_reply": "2025-02-10T16:48:18.010787Z"
        }
      },
      "outputs": [],
      "execution_count": null
    },
    {
      "cell_type": "code",
      "source": [
        "def tokenize_texts(sentences):\n",
        "  NUM_WORDS = 30000\n",
        "\n",
        "  # Define/Load Tokenize text function\n",
        "  tokenizer = Tokenizer(num_words=NUM_WORDS,filters='!\"#$%&()*+,-./:;<=>?@[\\\\]^_`{|}~\\t\\n\\'',\n",
        "                        lower=True)\n",
        "\n",
        "  # Fit the function on the text\n",
        "  tokenizer.fit_on_texts(sentences)\n",
        "\n",
        "  # Count number of unique tokens\n",
        "  word_index = tokenizer.word_index\n",
        "  print('Found %s unique tokens.'  %len(word_index))\n",
        "  return tokenizer, word_index"
      ],
      "metadata": {
        "id": "RgGk46VTD9vO",
        "trusted": true,
        "execution": {
          "iopub.status.busy": "2025-02-10T16:48:20.892260Z",
          "iopub.execute_input": "2025-02-10T16:48:20.892654Z",
          "iopub.status.idle": "2025-02-10T16:48:20.898636Z",
          "shell.execute_reply.started": "2025-02-10T16:48:20.892621Z",
          "shell.execute_reply": "2025-02-10T16:48:20.897223Z"
        }
      },
      "outputs": [],
      "execution_count": null
    },
    {
      "cell_type": "code",
      "source": [
        "tokenizer, word_index = tokenize_texts(final_df['tweet'])\n",
        "final_df['tweetseq'] = tokenizer.texts_to_sequences(final_df['tweet'])"
      ],
      "metadata": {
        "id": "yIyZ4UHdR49d",
        "trusted": true,
        "execution": {
          "iopub.status.busy": "2025-02-10T16:48:24.967960Z",
          "iopub.execute_input": "2025-02-10T16:48:24.968314Z",
          "iopub.status.idle": "2025-02-10T16:48:26.350456Z",
          "shell.execute_reply.started": "2025-02-10T16:48:24.968285Z",
          "shell.execute_reply": "2025-02-10T16:48:26.349244Z"
        }
      },
      "outputs": [],
      "execution_count": null
    },
    {
      "cell_type": "code",
      "source": [
        "print(final_df['tweetseq'].dtype)"
      ],
      "metadata": {
        "id": "lzDMMLOhLLeL",
        "trusted": true,
        "execution": {
          "iopub.status.busy": "2025-02-10T16:48:29.948250Z",
          "iopub.execute_input": "2025-02-10T16:48:29.948669Z",
          "iopub.status.idle": "2025-02-10T16:48:29.954866Z",
          "shell.execute_reply.started": "2025-02-10T16:48:29.948632Z",
          "shell.execute_reply": "2025-02-10T16:48:29.953702Z"
        }
      },
      "outputs": [],
      "execution_count": null
    },
    {
      "cell_type": "code",
      "source": [
        "final_df.tail(20)"
      ],
      "metadata": {
        "id": "p46k3Q__SoM-",
        "trusted": true,
        "execution": {
          "iopub.status.busy": "2025-02-10T16:45:54.535731Z",
          "iopub.status.idle": "2025-02-10T16:45:54.536128Z",
          "shell.execute_reply": "2025-02-10T16:45:54.535952Z"
        }
      },
      "outputs": [],
      "execution_count": null
    },
    {
      "cell_type": "code",
      "source": [
        "print(final_df['tweetseq'].shape)"
      ],
      "metadata": {
        "id": "i9FVAhM_OOzp",
        "trusted": true,
        "execution": {
          "iopub.status.busy": "2025-02-10T16:48:34.566076Z",
          "iopub.execute_input": "2025-02-10T16:48:34.566443Z",
          "iopub.status.idle": "2025-02-10T16:48:34.572153Z",
          "shell.execute_reply.started": "2025-02-10T16:48:34.566415Z",
          "shell.execute_reply": "2025-02-10T16:48:34.570887Z"
        }
      },
      "outputs": [],
      "execution_count": null
    },
    {
      "cell_type": "code",
      "source": [
        "# def pad(seq):\n",
        "#   print(seq)\n",
        "#   return pad_sequences(seq,maxlen=150)\n",
        "\n",
        "def padding(sentences):\n",
        "  seq=sentences.tolist()\n",
        "  padded = pad_sequences(seq,maxlen=250,padding='post')\n",
        "  return padded\n",
        "\n",
        "padded = padding(final_df['tweetseq'])\n",
        "print(f\"Min value: {padded.min()}, Max value: {padded.max()}\")"
      ],
      "metadata": {
        "id": "BL6p_a4RUGcX",
        "trusted": true,
        "execution": {
          "iopub.status.busy": "2025-02-10T16:48:39.287073Z",
          "iopub.execute_input": "2025-02-10T16:48:39.287435Z",
          "iopub.status.idle": "2025-02-10T16:48:39.412361Z",
          "shell.execute_reply.started": "2025-02-10T16:48:39.287407Z",
          "shell.execute_reply": "2025-02-10T16:48:39.410994Z"
        }
      },
      "outputs": [],
      "execution_count": null
    },
    {
      "cell_type": "code",
      "source": [
        "padded.shape"
      ],
      "metadata": {
        "id": "xyrxfor6NvzA",
        "trusted": true,
        "execution": {
          "iopub.status.busy": "2025-02-10T16:45:54.539563Z",
          "iopub.status.idle": "2025-02-10T16:45:54.539996Z",
          "shell.execute_reply": "2025-02-10T16:45:54.539828Z"
        }
      },
      "outputs": [],
      "execution_count": null
    },
    {
      "cell_type": "code",
      "source": [
        "final_df['tweetseq'] = list(padded)"
      ],
      "metadata": {
        "id": "2Y5klznLTDC2",
        "trusted": true,
        "execution": {
          "iopub.status.busy": "2025-02-10T16:48:44.032858Z",
          "iopub.execute_input": "2025-02-10T16:48:44.033221Z",
          "iopub.status.idle": "2025-02-10T16:48:44.053528Z",
          "shell.execute_reply.started": "2025-02-10T16:48:44.033191Z",
          "shell.execute_reply": "2025-02-10T16:48:44.052301Z"
        }
      },
      "outputs": [],
      "execution_count": null
    },
    {
      "cell_type": "code",
      "source": [
        "final_df.tail(20)"
      ],
      "metadata": {
        "id": "749b7-3wTQqy",
        "trusted": true,
        "execution": {
          "iopub.status.busy": "2025-02-10T16:45:54.542464Z",
          "iopub.status.idle": "2025-02-10T16:45:54.542873Z",
          "shell.execute_reply": "2025-02-10T16:45:54.542690Z"
        }
      },
      "outputs": [],
      "execution_count": null
    },
    {
      "cell_type": "code",
      "source": [
        "word_vectors = dict()\n",
        "\n",
        "# load the whole embedding into memory\n",
        "f = open('/content/drive/MyDrive/datasets/glove.6B.300d.txt', encoding=\"utf8\")\n",
        "for line in f:\n",
        "    values = line.split()\n",
        "    word = values[0]\n",
        "    coefs = np.asarray(values[1:], dtype='float32')\n",
        "    word_vectors[word] = coefs\n",
        "f.close()\n",
        "print('Loaded %s word vectors.' % len(word_vectors))"
      ],
      "metadata": {
        "id": "GZiMF1iO4aZa",
        "trusted": true,
        "execution": {
          "iopub.status.busy": "2025-02-10T16:48:49.111374Z",
          "iopub.execute_input": "2025-02-10T16:48:49.111810Z",
          "iopub.status.idle": "2025-02-10T16:49:19.081113Z",
          "shell.execute_reply.started": "2025-02-10T16:48:49.111774Z",
          "shell.execute_reply": "2025-02-10T16:49:19.079715Z"
        }
      },
      "outputs": [],
      "execution_count": null
    },
    {
      "cell_type": "code",
      "source": [
        "NUM_WORDS=len(word_index)+1\n",
        "EMBEDDING_DIM=300\n",
        "vocabulary_size=min(len(word_index)+1,(NUM_WORDS))\n",
        "\n",
        "embedding_matrix = np.zeros((vocabulary_size, EMBEDDING_DIM))"
      ],
      "metadata": {
        "id": "OtIncB-tAH5n",
        "trusted": true,
        "execution": {
          "iopub.status.busy": "2025-02-10T16:49:24.631708Z",
          "iopub.execute_input": "2025-02-10T16:49:24.632141Z",
          "iopub.status.idle": "2025-02-10T16:49:24.637261Z",
          "shell.execute_reply.started": "2025-02-10T16:49:24.632103Z",
          "shell.execute_reply": "2025-02-10T16:49:24.636114Z"
        }
      },
      "outputs": [],
      "execution_count": null
    },
    {
      "cell_type": "code",
      "source": [
        "wp=[]\n",
        "for word, i in word_index.items():\n",
        "    if i>=NUM_WORDS:\n",
        "        continue\n",
        "    if word in word_vectors:\n",
        "      embedding_vector = word_vectors[word]\n",
        "      embedding_matrix[i] = embedding_vector\n",
        "    else:\n",
        "      fl=0\n",
        "      for x in bad_word:\n",
        "        if x in word:\n",
        "          embedding_vector = word_vectors[x]\n",
        "          embedding_matrix[i] = embedding_vector\n",
        "          fl=1\n",
        "          break\n",
        "      if fl==0 :\n",
        "        wp.append(word)\n",
        "    # try:\n",
        "    #     embedding_vector = word_vectors[word]\n",
        "    #     embedding_matrix[i] = embedding_vector\n",
        "    # except KeyError:\n",
        "    #     wp.append(word)\n",
        "    #     embedding_matrix[i]=np.zeros(300)\n",
        "# ' '.join(wp)"
      ],
      "metadata": {
        "id": "wZcHTQjvAm59",
        "trusted": true,
        "execution": {
          "iopub.status.busy": "2025-02-10T16:49:26.964408Z",
          "iopub.execute_input": "2025-02-10T16:49:26.964831Z",
          "iopub.status.idle": "2025-02-10T16:49:27.202276Z",
          "shell.execute_reply.started": "2025-02-10T16:49:26.964782Z",
          "shell.execute_reply": "2025-02-10T16:49:27.201194Z"
        }
      },
      "outputs": [],
      "execution_count": null
    },
    {
      "cell_type": "code",
      "source": [
        "final_df['type'].value_counts()"
      ],
      "metadata": {
        "id": "RQYpjrAGAAt3",
        "trusted": true,
        "execution": {
          "iopub.status.busy": "2025-02-10T16:45:54.548242Z",
          "iopub.status.idle": "2025-02-10T16:45:54.548615Z",
          "shell.execute_reply": "2025-02-10T16:45:54.548440Z"
        }
      },
      "outputs": [],
      "execution_count": null
    },
    {
      "cell_type": "code",
      "source": [
        "sequence_length=150\n",
        "drop=0.2\n",
        "model = Sequential()\n",
        "NUM_WORDS=len(word_index)+1\n",
        "\n",
        "model.add(Embedding(input_dim=NUM_WORDS,\n",
        "                    output_dim=EMBEDDING_DIM,\n",
        "                    weights=[embedding_matrix],\n",
        "                    input_length=sequence_length,\n",
        "                    trainable=True))\n",
        "\n",
        "model.add(Bidirectional(LSTM(512, return_sequences = True)))\n",
        "model.add(GlobalMaxPooling1D())\n",
        "\n",
        "\n",
        "\n",
        "model.add(Dense(40, activation='relu'))\n",
        "\n",
        "model.add(Dense(20, activation='relu'))\n",
        "\n",
        "model.add(Dense(units=1, activation='sigmoid'))"
      ],
      "metadata": {
        "id": "HxUot_aC6_Go",
        "trusted": true,
        "execution": {
          "iopub.status.busy": "2025-02-10T16:49:30.679021Z",
          "iopub.execute_input": "2025-02-10T16:49:30.679363Z",
          "iopub.status.idle": "2025-02-10T16:49:31.028945Z",
          "shell.execute_reply.started": "2025-02-10T16:49:30.679338Z",
          "shell.execute_reply": "2025-02-10T16:49:31.027893Z"
        }
      },
      "outputs": [],
      "execution_count": null
    },
    {
      "cell_type": "code",
      "source": [
        "X = np.array(final_df['tweetseq'].tolist(), dtype=np.float64)\n",
        "y=final_df['type']\n",
        "yc=y"
      ],
      "metadata": {
        "id": "Lt8XQlVSEkzS",
        "trusted": true,
        "execution": {
          "iopub.status.busy": "2025-02-10T16:49:35.791078Z",
          "iopub.execute_input": "2025-02-10T16:49:35.791463Z",
          "iopub.status.idle": "2025-02-10T16:49:35.825641Z",
          "shell.execute_reply.started": "2025-02-10T16:49:35.791430Z",
          "shell.execute_reply": "2025-02-10T16:49:35.824641Z"
        }
      },
      "outputs": [],
      "execution_count": null
    },
    {
      "cell_type": "code",
      "source": [
        "print(X.shape,yc.shape)"
      ],
      "metadata": {
        "id": "bqD75F6SG7Xr",
        "trusted": true,
        "execution": {
          "iopub.status.busy": "2025-02-10T16:45:54.552964Z",
          "iopub.status.idle": "2025-02-10T16:45:54.553342Z",
          "shell.execute_reply": "2025-02-10T16:45:54.553209Z"
        }
      },
      "outputs": [],
      "execution_count": null
    },
    {
      "cell_type": "code",
      "source": [
        "X_train, X_test, y_train, y_test = train_test_split(X, yc, test_size=0.30, random_state=42)\n",
        "X_train, X_val, y_train, y_val = train_test_split(X_train, y_train, test_size=0.15, random_state=42)"
      ],
      "metadata": {
        "id": "kBqOrcDCG_Fj",
        "trusted": true,
        "execution": {
          "iopub.status.busy": "2025-02-10T16:49:39.438075Z",
          "iopub.execute_input": "2025-02-10T16:49:39.438446Z",
          "iopub.status.idle": "2025-02-10T16:49:39.484466Z",
          "shell.execute_reply.started": "2025-02-10T16:49:39.438403Z",
          "shell.execute_reply": "2025-02-10T16:49:39.483451Z"
        }
      },
      "outputs": [],
      "execution_count": null
    },
    {
      "cell_type": "code",
      "source": [
        "from sklearn.utils import class_weight\n",
        "yy=np.unique(y_train)\n",
        "opt = Adam(learning_rate=1e-3)\n",
        "model.compile(loss='binary_crossentropy',optimizer=opt, metrics=['accuracy'])\n",
        "checkpoint = ModelCheckpoint(\n",
        "    filepath='best_model.keras',        # Filepath to save the model\n",
        "    monitor='val_loss',             # Metric to monitor (e.g., 'val_accuracy', 'val_loss')\n",
        "    save_best_only=True,            # Save only the best model\n",
        "    mode='min',                     # 'min' for loss, 'max' for accuracy\n",
        "    verbose=1                       # Display messages\n",
        ")\n",
        "\n",
        "callbacks = [EarlyStopping(monitor='val_loss'),checkpoint]\n",
        "hist_adam = model.fit(X_train, y_train, batch_size=500, epochs=30, validation_data=(X_val, y_val), callbacks=callbacks)  # starts training"
      ],
      "metadata": {
        "id": "dGICWCLCJrMy",
        "trusted": true,
        "execution": {
          "iopub.status.busy": "2025-02-10T16:49:41.732694Z",
          "iopub.execute_input": "2025-02-10T16:49:41.733076Z",
          "iopub.status.idle": "2025-02-10T17:01:12.316202Z",
          "shell.execute_reply.started": "2025-02-10T16:49:41.733045Z",
          "shell.execute_reply": "2025-02-10T17:01:12.314566Z"
        }
      },
      "outputs": [],
      "execution_count": null
    },
    {
      "cell_type": "code",
      "source": [
        "plt.suptitle('Optimizer : Adam', fontsize=10)\n",
        "plt.ylabel('Loss', fontsize=16)\n",
        "plt.xlabel('Epoch', fontsize=14)\n",
        "plt.plot(hist_adam.history['loss'], color='b', label='Training Loss')\n",
        "plt.plot(hist_adam.history['val_loss'], color='r', label='Validation Loss')\n",
        "plt.legend(loc='upper right')"
      ],
      "metadata": {
        "id": "BT796C0yfw0c",
        "trusted": true,
        "execution": {
          "iopub.status.busy": "2025-02-10T17:01:53.055441Z",
          "iopub.execute_input": "2025-02-10T17:01:53.056013Z",
          "iopub.status.idle": "2025-02-10T17:01:53.391795Z",
          "shell.execute_reply.started": "2025-02-10T17:01:53.055975Z",
          "shell.execute_reply": "2025-02-10T17:01:53.390561Z"
        }
      },
      "outputs": [],
      "execution_count": null
    },
    {
      "cell_type": "code",
      "source": [
        "best_model = load_model('best_model.keras')\n",
        "prob = best_model.predict(X_test)\n",
        "\n",
        "y_pred=[]\n",
        "for xx in prob:\n",
        "  if xx>=0.5:\n",
        "    y_pred.append(1)\n",
        "  else:\n",
        "    y_pred.append(0)\n",
        "\n",
        "# y_pred\n",
        "yy=y_test\n",
        "\n",
        "\n",
        "cnf_matrix = metrics.confusion_matrix(yy, y_pred)\n",
        "cnf_matrix\n",
        "\n"
      ],
      "metadata": {
        "id": "6NZ13a0upgjP",
        "trusted": true,
        "execution": {
          "iopub.status.busy": "2025-02-10T17:01:59.551299Z",
          "iopub.execute_input": "2025-02-10T17:01:59.551723Z",
          "iopub.status.idle": "2025-02-10T17:02:53.178152Z",
          "shell.execute_reply.started": "2025-02-10T17:01:59.551690Z",
          "shell.execute_reply": "2025-02-10T17:02:53.177109Z"
        }
      },
      "outputs": [],
      "execution_count": null
    },
    {
      "cell_type": "code",
      "source": [
        "class_names=['no_bully', 'bully'] # name  of classes\n",
        "fig, ax = plt.subplots(figsize=(3,3))\n",
        "\n",
        "# create heatmap\n",
        "sns.heatmap(cnf_matrix, annot=True, cmap=\"YlGnBu\", fmt='g', cbar=False)\n",
        "ax.set_xticklabels(class_names, rotation=45, ha='right')  # Rotate x-ticks for readability\n",
        "ax.set_yticklabels(class_names, rotation=0)\n",
        "ax.xaxis.set_label_position(\"top\")\n",
        "plt.tight_layout()\n",
        "plt.title('Confusion matrix', y=1.1)\n",
        "plt.ylabel('Actual label')\n",
        "plt.xlabel('Predicted label(cnn)')\n"
      ],
      "metadata": {
        "id": "L-7kwzAmtvvX",
        "trusted": true,
        "execution": {
          "iopub.status.busy": "2025-02-10T17:03:11.426018Z",
          "iopub.execute_input": "2025-02-10T17:03:11.426411Z",
          "iopub.status.idle": "2025-02-10T17:03:11.568419Z",
          "shell.execute_reply.started": "2025-02-10T17:03:11.426381Z",
          "shell.execute_reply": "2025-02-10T17:03:11.567443Z"
        }
      },
      "outputs": [],
      "execution_count": null
    },
    {
      "cell_type": "code",
      "source": [
        "import pickle\n",
        "\n",
        "pickl = {\n",
        "    'tokenizer': tokenizer,\n",
        "    'model': best_model\n",
        "}\n",
        "\n",
        "pickle.dump(pickl, open(\"lstm\"+\".p\",\"wb\"))\n",
        "\n",
        "target_names = ['no_bully', 'bully']\n",
        "print(classification_report(yy, y_pred, target_names=target_names))"
      ],
      "metadata": {
        "id": "IDMCEJ440r9o",
        "trusted": true,
        "execution": {
          "iopub.status.busy": "2025-02-10T17:03:56.143534Z",
          "iopub.execute_input": "2025-02-10T17:03:56.144046Z",
          "iopub.status.idle": "2025-02-10T17:03:57.039173Z",
          "shell.execute_reply.started": "2025-02-10T17:03:56.144008Z",
          "shell.execute_reply": "2025-02-10T17:03:57.037854Z"
        }
      },
      "outputs": [],
      "execution_count": null
    },
    {
      "cell_type": "code",
      "source": [
        "accuracy = accuracy_score(yy, y_pred)\n",
        "print(f\"Model Accuracy: {accuracy:.2f}\")"
      ],
      "metadata": {
        "id": "JC-4hXy5IQeX",
        "trusted": true,
        "execution": {
          "iopub.status.busy": "2025-02-10T16:45:54.563189Z",
          "iopub.status.idle": "2025-02-10T16:45:54.563524Z",
          "shell.execute_reply": "2025-02-10T16:45:54.563393Z"
        }
      },
      "outputs": [],
      "execution_count": null
    },
    {
      "cell_type": "code",
      "source": [
        "TP = cnf_matrix[0, 0]\n",
        "FN = cnf_matrix[0, 1]\n",
        "FP = cnf_matrix[1, 0]\n",
        "TN = cnf_matrix[1, 1]\n",
        "\n",
        "recall = TP / (TP + FN)\n",
        "\n",
        "precision = TP / (TP + FP)\n",
        "\n",
        "f1_score = 2 * (precision * recall) / (precision + recall)\n",
        "\n",
        "print(f\"Precision: {precision:.2f}\")\n",
        "print(f\"Recall: {recall:.2f}\")\n",
        "print(f\"F1 Score: {f1_score:.2f}\")"
      ],
      "metadata": {
        "id": "839Bg0DpjGfV",
        "trusted": true,
        "execution": {
          "iopub.status.busy": "2025-02-10T16:45:54.564844Z",
          "iopub.status.idle": "2025-02-10T16:45:54.565183Z",
          "shell.execute_reply": "2025-02-10T16:45:54.565044Z"
        }
      },
      "outputs": [],
      "execution_count": null
    },
    {
      "cell_type": "code",
      "source": [
        "\n",
        "# Plot ROC curve for each class\n",
        "plt.figure(figsize=(6,5))\n",
        "yy=[]\n",
        "yy.append(y_test)\n",
        "yy.append(1-y_test)\n",
        "pr=[]\n",
        "pr.append(prob)\n",
        "pr.append(1-prob)\n",
        "\n",
        "for i in range(2):\n",
        "    fpr, tpr, _ = roc_curve(yy[i], pr[i])\n",
        "    roc_auc = auc(fpr, tpr)\n",
        "    plt.plot(fpr, tpr, label=f'Class {class_names[i]} (AUC = {roc_auc:.2f})')\n",
        "\n",
        "# Plot the diagonal line for random guessing\n",
        "plt.plot([0, 1], [0, 1], 'k--', label='Random Guessing')\n",
        "\n",
        "# Label the plot\n",
        "plt.xlabel('False Positive Rate')\n",
        "plt.ylabel('True Positive Rate')\n",
        "plt.title('ROC Curve for Each Class')\n",
        "plt.legend(loc='best')\n",
        "plt.show()"
      ],
      "metadata": {
        "id": "quG61acR1QCS",
        "trusted": true,
        "execution": {
          "iopub.status.busy": "2025-02-10T16:45:54.566706Z",
          "iopub.status.idle": "2025-02-10T16:45:54.567146Z",
          "shell.execute_reply": "2025-02-10T16:45:54.566929Z"
        }
      },
      "outputs": [],
      "execution_count": null
    },
    {
      "cell_type": "code",
      "source": [],
      "metadata": {
        "id": "wgausB4VxrHW",
        "trusted": true
      },
      "outputs": [],
      "execution_count": null
    }
  ]
}
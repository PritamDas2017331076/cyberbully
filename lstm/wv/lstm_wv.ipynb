{
  "metadata": {
    "kernelspec": {
      "name": "python3",
      "display_name": "Python 3",
      "language": "python"
    },
    "language_info": {
      "name": "python",
      "version": "3.10.12",
      "mimetype": "text/x-python",
      "codemirror_mode": {
        "name": "ipython",
        "version": 3
      },
      "pygments_lexer": "ipython3",
      "nbconvert_exporter": "python",
      "file_extension": ".py"
    },
    "colab": {
      "private_outputs": true,
      "provenance": [],
      "gpuType": "T4"
    },
    "accelerator": "GPU",
    "kaggle": {
      "accelerator": "none",
      "dataSources": [
        {
          "sourceId": 4578619,
          "sourceType": "datasetVersion",
          "datasetId": 2671003
        }
      ],
      "dockerImageVersionId": 30886,
      "isInternetEnabled": true,
      "language": "python",
      "sourceType": "notebook",
      "isGpuEnabled": false
    }
  },
  "nbformat_minor": 0,
  "nbformat": 4,
  "cells": [
    {
      "cell_type": "code",
      "source": [
        "!pip install gensim"
      ],
      "metadata": {
        "id": "bbg_R6QGtu81",
        "trusted": true,
        "execution": {
          "iopub.status.busy": "2025-02-13T17:10:55.307476Z",
          "iopub.execute_input": "2025-02-13T17:10:55.307719Z",
          "iopub.status.idle": "2025-02-13T17:11:01.274452Z",
          "shell.execute_reply.started": "2025-02-13T17:10:55.307697Z",
          "shell.execute_reply": "2025-02-13T17:11:01.272948Z"
        }
      },
      "outputs": [],
      "execution_count": null
    },
    {
      "cell_type": "code",
      "source": [
        "!pip install nltk"
      ],
      "metadata": {
        "id": "1qQvaeq_woO6",
        "trusted": true,
        "execution": {
          "iopub.status.busy": "2025-02-13T17:11:01.2758Z",
          "iopub.execute_input": "2025-02-13T17:11:01.276214Z",
          "iopub.status.idle": "2025-02-13T17:11:05.481772Z",
          "shell.execute_reply.started": "2025-02-13T17:11:01.276166Z",
          "shell.execute_reply": "2025-02-13T17:11:05.480471Z"
        }
      },
      "outputs": [],
      "execution_count": null
    },
    {
      "cell_type": "code",
      "source": [
        "!pip install tensorflow"
      ],
      "metadata": {
        "id": "6agcr4rlYTyY",
        "trusted": true,
        "execution": {
          "iopub.status.busy": "2025-02-13T17:11:05.486901Z",
          "iopub.execute_input": "2025-02-13T17:11:05.487311Z",
          "iopub.status.idle": "2025-02-13T17:11:10.001101Z",
          "shell.execute_reply.started": "2025-02-13T17:11:05.487239Z",
          "shell.execute_reply": "2025-02-13T17:11:09.999464Z"
        }
      },
      "outputs": [],
      "execution_count": null
    },
    {
      "cell_type": "code",
      "source": [
        "import pandas as pd\n",
        "import numpy as np\n",
        "import re\n",
        "import string\n",
        "import gensim\n",
        "from nltk.corpus import stopwords\n",
        "from gensim.parsing.preprocessing import remove_stopwords\n",
        "import matplotlib.pyplot as plt\n",
        "from sklearn.svm import SVC\n",
        "from sklearn.naive_bayes import GaussianNB\n",
        "from sklearn.naive_bayes import MultinomialNB\n",
        "from sklearn.model_selection import train_test_split\n",
        "from sklearn.metrics import accuracy_score\n",
        "from sklearn.linear_model import LogisticRegression\n",
        "from sklearn import metrics\n",
        "import numpy as np\n",
        "import random\n",
        "import matplotlib.pyplot as plt\n",
        "import seaborn as sns\n",
        "from sklearn.metrics import classification_report\n",
        "from sklearn.metrics import roc_curve, auc\n",
        "from sklearn.preprocessing import label_binarize\n",
        "from sklearn.ensemble import GradientBoostingClassifier\n",
        "\n",
        "import tensorflow as tf\n",
        "from tensorflow.keras import regularizers\n",
        "from tensorflow.keras.models import Sequential,Model,load_model\n",
        "from tensorflow.keras.layers import Embedding, Conv1D, LSTM, Bidirectional, GlobalMaxPooling1D, Dense, Dropout, Conv2D, concatenate, MaxPooling2D, Input, Flatten, Reshape\n",
        "from tensorflow.keras.preprocessing.text import Tokenizer\n",
        "from tensorflow.keras.preprocessing.sequence import pad_sequences\n",
        "from tensorflow.keras.utils import to_categorical\n",
        "\n",
        "from tensorflow.keras.callbacks import EarlyStopping,ModelCheckpoint\n",
        "from tensorflow.keras.optimizers import SGD, RMSprop, Adagrad, Adadelta, Adam, Adamax, Nadam\n",
        "\n"
      ],
      "metadata": {
        "id": "gLbCI2hLKd7T",
        "trusted": true,
        "execution": {
          "iopub.status.busy": "2025-02-13T17:11:43.055708Z",
          "iopub.execute_input": "2025-02-13T17:11:43.056191Z",
          "iopub.status.idle": "2025-02-13T17:12:17.604631Z",
          "shell.execute_reply.started": "2025-02-13T17:11:43.056156Z",
          "shell.execute_reply": "2025-02-13T17:12:17.603489Z"
        }
      },
      "outputs": [],
      "execution_count": null
    },
    {
      "cell_type": "code",
      "source": [
        "import nltk\n",
        "from nltk.stem import WordNetLemmatizer\n",
        "\n",
        "nltk.download('wordnet')\n",
        "nltk.download('stopwords')\n",
        "nltk.download('omw-1.4')\n",
        "nltk.download('punkt')\n",
        "nltk.download('punkt_tab')"
      ],
      "metadata": {
        "id": "4viiNN9CwmCu",
        "trusted": true,
        "execution": {
          "iopub.status.busy": "2025-02-13T17:05:34.165171Z",
          "iopub.status.idle": "2025-02-13T17:05:34.165385Z",
          "shell.execute_reply": "2025-02-13T17:05:34.1653Z"
        }
      },
      "outputs": [],
      "execution_count": null
    },
    {
      "cell_type": "code",
      "source": [
        "random.seed(42)\n",
        "np.random.seed(42)\n",
        "tf.random.set_seed(42)"
      ],
      "metadata": {
        "id": "SbW4Sof9zyCV",
        "trusted": true,
        "execution": {
          "iopub.status.busy": "2025-02-13T17:13:27.700239Z",
          "iopub.execute_input": "2025-02-13T17:13:27.700613Z",
          "iopub.status.idle": "2025-02-13T17:13:27.705868Z",
          "shell.execute_reply.started": "2025-02-13T17:13:27.700585Z",
          "shell.execute_reply": "2025-02-13T17:13:27.704551Z"
        }
      },
      "outputs": [],
      "execution_count": null
    },
    {
      "cell_type": "code",
      "source": [
        "from google.colab import drive\n",
        "drive.mount('/content/drive')"
      ],
      "metadata": {
        "id": "dlRU6Ww_UByR"
      },
      "execution_count": null,
      "outputs": []
    },
    {
      "cell_type": "code",
      "source": [
        "bully_df = pd.read_csv('./drive/MyDrive/datasets/cyberbullying_tweets.csv')"
      ],
      "metadata": {
        "id": "xAtsEEfmKqpl",
        "trusted": true,
        "execution": {
          "iopub.status.busy": "2025-02-13T17:13:30.455078Z",
          "iopub.execute_input": "2025-02-13T17:13:30.455421Z",
          "iopub.status.idle": "2025-02-13T17:13:30.694327Z",
          "shell.execute_reply.started": "2025-02-13T17:13:30.455396Z",
          "shell.execute_reply": "2025-02-13T17:13:30.693213Z"
        }
      },
      "outputs": [],
      "execution_count": null
    },
    {
      "cell_type": "code",
      "source": [
        "def cleantxt(txt):\n",
        "    txt = re.sub(r\"\\n\", \" \", txt)\n",
        "    txt = re.sub(\"[\\<\\[].*?[\\>\\]]\", \" \", txt)\n",
        "    txt = txt.lower()\n",
        "    txt = re.sub(r\"[^a-zA-Z ]\", \" \", txt)\n",
        "    txt = re.sub(r\"\\b\\w{1,3}\\b\", \" \",txt)\n",
        "    return txt"
      ],
      "metadata": {
        "id": "L3Adpqa2Kbk0",
        "trusted": true,
        "execution": {
          "iopub.status.busy": "2025-02-13T17:13:38.081498Z",
          "iopub.execute_input": "2025-02-13T17:13:38.081826Z",
          "iopub.status.idle": "2025-02-13T17:13:38.087175Z",
          "shell.execute_reply.started": "2025-02-13T17:13:38.081801Z",
          "shell.execute_reply": "2025-02-13T17:13:38.085865Z"
        }
      },
      "outputs": [],
      "execution_count": null
    },
    {
      "cell_type": "code",
      "source": [
        "def remove_stopwords(txt):\n",
        "    stpw = stopwords.words('english')\n",
        "    stpw.extend(['www','http','utc'])\n",
        "    stpw = set(stpw)\n",
        "    txt = \" \".join([x for x in txt.split() if x not in stpw])\n",
        "    return txt"
      ],
      "metadata": {
        "id": "yOPLss1tHETX",
        "trusted": true,
        "execution": {
          "iopub.status.busy": "2025-02-13T17:13:41.326552Z",
          "iopub.execute_input": "2025-02-13T17:13:41.326917Z",
          "iopub.status.idle": "2025-02-13T17:13:41.332416Z",
          "shell.execute_reply.started": "2025-02-13T17:13:41.326887Z",
          "shell.execute_reply": "2025-02-13T17:13:41.331196Z"
        }
      },
      "outputs": [],
      "execution_count": null
    },
    {
      "cell_type": "code",
      "source": [
        "bully_df.tail()"
      ],
      "metadata": {
        "id": "qv__oDjwLrpc",
        "trusted": true,
        "execution": {
          "iopub.status.busy": "2025-02-13T17:13:46.815362Z",
          "iopub.execute_input": "2025-02-13T17:13:46.815746Z",
          "iopub.status.idle": "2025-02-13T17:13:46.844474Z",
          "shell.execute_reply.started": "2025-02-13T17:13:46.815714Z",
          "shell.execute_reply": "2025-02-13T17:13:46.843397Z"
        }
      },
      "outputs": [],
      "execution_count": null
    },
    {
      "cell_type": "code",
      "source": [
        "bully_df = bully_df.rename(columns={'tweet_text':'tweet','cyberbullying_type':'type'})"
      ],
      "metadata": {
        "id": "rK7eGalzMyI-",
        "trusted": true,
        "execution": {
          "iopub.status.busy": "2025-02-13T17:13:51.29858Z",
          "iopub.execute_input": "2025-02-13T17:13:51.299079Z",
          "iopub.status.idle": "2025-02-13T17:13:51.306408Z",
          "shell.execute_reply.started": "2025-02-13T17:13:51.299038Z",
          "shell.execute_reply": "2025-02-13T17:13:51.305324Z"
        }
      },
      "outputs": [],
      "execution_count": null
    },
    {
      "cell_type": "code",
      "source": [
        "bully_df.head()"
      ],
      "metadata": {
        "id": "IgRWiOquNWe_",
        "trusted": true,
        "execution": {
          "iopub.status.busy": "2025-02-13T17:05:34.171386Z",
          "iopub.status.idle": "2025-02-13T17:05:34.171583Z",
          "shell.execute_reply": "2025-02-13T17:05:34.171503Z"
        }
      },
      "outputs": [],
      "execution_count": null
    },
    {
      "cell_type": "code",
      "source": [
        "bully_df['tweet'] = bully_df['tweet'].apply(cleantxt)"
      ],
      "metadata": {
        "id": "78N_Ju5OmvEA",
        "trusted": true,
        "execution": {
          "iopub.status.busy": "2025-02-13T17:13:55.397092Z",
          "iopub.execute_input": "2025-02-13T17:13:55.397443Z",
          "iopub.status.idle": "2025-02-13T17:13:56.213633Z",
          "shell.execute_reply.started": "2025-02-13T17:13:55.397419Z",
          "shell.execute_reply": "2025-02-13T17:13:56.212476Z"
        }
      },
      "outputs": [],
      "execution_count": null
    },
    {
      "cell_type": "code",
      "source": [
        "texts = bully_df['tweet'].values"
      ],
      "metadata": {
        "id": "s86JWkZGXzVo",
        "trusted": true,
        "execution": {
          "iopub.status.busy": "2025-02-13T17:14:47.670203Z",
          "iopub.execute_input": "2025-02-13T17:14:47.670585Z",
          "iopub.status.idle": "2025-02-13T17:14:47.675109Z",
          "shell.execute_reply.started": "2025-02-13T17:14:47.670558Z",
          "shell.execute_reply": "2025-02-13T17:14:47.673922Z"
        }
      },
      "outputs": [],
      "execution_count": null
    },
    {
      "cell_type": "code",
      "source": [
        "bully_df.head()"
      ],
      "metadata": {
        "id": "2i8p2hO4nYqK",
        "trusted": true,
        "execution": {
          "iopub.status.busy": "2025-02-13T17:05:34.173621Z",
          "iopub.status.idle": "2025-02-13T17:05:34.173855Z",
          "shell.execute_reply": "2025-02-13T17:05:34.173774Z"
        }
      },
      "outputs": [],
      "execution_count": null
    },
    {
      "cell_type": "code",
      "source": [
        "bully_df.tail(20)"
      ],
      "metadata": {
        "id": "qMCU1zSdKfoU",
        "trusted": true,
        "execution": {
          "iopub.status.busy": "2025-02-13T17:05:34.174737Z",
          "iopub.status.idle": "2025-02-13T17:05:34.175041Z",
          "shell.execute_reply": "2025-02-13T17:05:34.174907Z"
        }
      },
      "outputs": [],
      "execution_count": null
    },
    {
      "cell_type": "code",
      "source": [
        "\n",
        "def lemmatize_sentence(sentence):\n",
        "    lemmatizer = WordNetLemmatizer()\n",
        "\n",
        "    tokens = nltk.word_tokenize(sentence)\n",
        "    lemmatized_words = [lemmatizer.lemmatize(word, pos='v') for word in tokens]\n",
        "    return ' '.join(lemmatized_words)"
      ],
      "metadata": {
        "id": "X-PI3cyswfeZ",
        "trusted": true,
        "execution": {
          "iopub.status.busy": "2025-02-13T17:14:05.146168Z",
          "iopub.execute_input": "2025-02-13T17:14:05.146507Z",
          "iopub.status.idle": "2025-02-13T17:14:05.151638Z",
          "shell.execute_reply.started": "2025-02-13T17:14:05.146481Z",
          "shell.execute_reply": "2025-02-13T17:14:05.150587Z"
        }
      },
      "outputs": [],
      "execution_count": null
    },
    {
      "cell_type": "code",
      "source": [
        "import os\n",
        "print(os.listdir(\"/root/nltk_data/corpora\"))"
      ],
      "metadata": {
        "trusted": true,
        "execution": {
          "iopub.status.busy": "2025-02-13T17:05:34.1763Z",
          "iopub.status.idle": "2025-02-13T17:05:34.176576Z",
          "shell.execute_reply": "2025-02-13T17:05:34.176457Z"
        },
        "id": "Mc60X2APTw4D"
      },
      "outputs": [],
      "execution_count": null
    },
    {
      "cell_type": "code",
      "source": [
        "bully_df['tweet'] = bully_df['tweet'].apply(lemmatize_sentence)"
      ],
      "metadata": {
        "id": "KW50QMqYxbft",
        "trusted": true,
        "execution": {
          "iopub.status.busy": "2025-02-13T17:14:09.825338Z",
          "iopub.execute_input": "2025-02-13T17:14:09.82567Z",
          "iopub.status.idle": "2025-02-13T17:14:19.626446Z",
          "shell.execute_reply.started": "2025-02-13T17:14:09.825643Z",
          "shell.execute_reply": "2025-02-13T17:14:19.625372Z"
        }
      },
      "outputs": [],
      "execution_count": null
    },
    {
      "cell_type": "code",
      "source": [
        "from nltk.tokenize import sent_tokenize, word_tokenize\n",
        "\n",
        "corpus_text = '\\n'.join(texts)\n",
        "data = []\n",
        "for i in sent_tokenize(corpus_text):\n",
        "    temp = []\n",
        "    for j in word_tokenize(i):\n",
        "        temp.append(j.lower())\n",
        "    data.append(temp)\n"
      ],
      "metadata": {
        "id": "pdYhQDzNaexT",
        "trusted": true,
        "execution": {
          "iopub.status.busy": "2025-02-13T17:14:54.391771Z",
          "iopub.execute_input": "2025-02-13T17:14:54.392118Z",
          "iopub.status.idle": "2025-02-13T17:14:57.688648Z",
          "shell.execute_reply.started": "2025-02-13T17:14:54.39209Z",
          "shell.execute_reply": "2025-02-13T17:14:57.687539Z"
        }
      },
      "outputs": [],
      "execution_count": null
    },
    {
      "cell_type": "code",
      "source": [
        "model1 = gensim.models.Word2Vec(data, min_count = 1,vector_size = 300, window = 5, sg=0)"
      ],
      "metadata": {
        "id": "nPngGtnjKkIV",
        "trusted": true,
        "execution": {
          "iopub.status.busy": "2025-02-13T17:15:04.034305Z",
          "iopub.execute_input": "2025-02-13T17:15:04.034667Z",
          "iopub.status.idle": "2025-02-13T17:15:05.476228Z",
          "shell.execute_reply.started": "2025-02-13T17:15:04.034636Z",
          "shell.execute_reply": "2025-02-13T17:15:05.474831Z"
        }
      },
      "outputs": [],
      "execution_count": null
    },
    {
      "cell_type": "code",
      "source": [
        "bully_df['tweet'] = bully_df['tweet'].apply(remove_stopwords)"
      ],
      "metadata": {
        "id": "Rnr99eexHeP5",
        "trusted": true,
        "execution": {
          "iopub.status.busy": "2025-02-13T17:15:08.038621Z",
          "iopub.execute_input": "2025-02-13T17:15:08.039022Z"
        }
      },
      "outputs": [],
      "execution_count": null
    },
    {
      "cell_type": "code",
      "source": [
        "bully_df.tail(10)"
      ],
      "metadata": {
        "id": "xmEJCFYTyveB",
        "trusted": true,
        "execution": {
          "iopub.status.busy": "2025-02-13T17:05:34.182174Z",
          "iopub.status.idle": "2025-02-13T17:05:34.182507Z",
          "shell.execute_reply": "2025-02-13T17:05:34.182371Z"
        }
      },
      "outputs": [],
      "execution_count": null
    },
    {
      "cell_type": "code",
      "source": [
        "bully_df.tail(10)"
      ],
      "metadata": {
        "id": "cMSApaanRz3m",
        "trusted": true,
        "execution": {
          "iopub.status.busy": "2025-02-13T17:05:34.183235Z",
          "iopub.status.idle": "2025-02-13T17:05:34.183543Z",
          "shell.execute_reply": "2025-02-13T17:05:34.18341Z"
        }
      },
      "outputs": [],
      "execution_count": null
    },
    {
      "cell_type": "code",
      "source": [
        "from wordcloud import WordCloud\n",
        "negative_words = ' '.join([text for text in bully_df['tweet'][bully_df['type'] != 'not_cyberbullying']])\n",
        "wordcloud = WordCloud(width=800, height=500,\n",
        "random_state=21, max_font_size=110).generate(negative_words)\n",
        "plt.figure(figsize=(10, 7))\n",
        "plt.imshow(wordcloud, interpolation=\"bilinear\")\n",
        "plt.axis('off')\n",
        "plt.show()"
      ],
      "metadata": {
        "id": "dizrm6CF2kC5",
        "trusted": true,
        "execution": {
          "iopub.status.busy": "2025-02-13T17:05:34.184603Z",
          "iopub.status.idle": "2025-02-13T17:05:34.185034Z",
          "shell.execute_reply": "2025-02-13T17:05:34.184882Z"
        }
      },
      "outputs": [],
      "execution_count": null
    },
    {
      "cell_type": "code",
      "source": [
        "bad_word = ['fuck','dumb','black','nigger','terrorist','bully','stupid','rape','joke','racism','islam','idiot','isis','bitch','hate','muslim','racist','hindu','christian','kill','sexist','shit','wrong','terrorism']"
      ],
      "metadata": {
        "id": "AAxe1rddDdaN",
        "trusted": true,
        "execution": {
          "iopub.status.busy": "2025-02-13T17:05:34.185588Z",
          "iopub.status.idle": "2025-02-13T17:05:34.185849Z",
          "shell.execute_reply": "2025-02-13T17:05:34.185756Z"
        }
      },
      "outputs": [],
      "execution_count": null
    },
    {
      "cell_type": "code",
      "source": [
        "bully_df['tweetsplit'] = bully_df['tweet'].apply(lambda x: x.split())\n",
        "# bully_df['tweet'] = bully_df['tweet'].apply(lambda x: ([w for w in x if len(w)>=3]))\n",
        "# bully_df['tweetcnn'] = bully_df['tweet'].apply(lambda x: ' '.)"
      ],
      "metadata": {
        "id": "QYcyGTAn5RPd",
        "trusted": true,
        "execution": {
          "iopub.status.busy": "2025-02-13T17:05:34.186394Z",
          "iopub.status.idle": "2025-02-13T17:05:34.186677Z",
          "shell.execute_reply": "2025-02-13T17:05:34.186538Z"
        }
      },
      "outputs": [],
      "execution_count": null
    },
    {
      "cell_type": "code",
      "source": [
        "bully_df.tail(20)"
      ],
      "metadata": {
        "id": "sW5JdP8n5ang",
        "trusted": true,
        "execution": {
          "iopub.status.busy": "2025-02-13T17:05:34.187115Z",
          "iopub.status.idle": "2025-02-13T17:05:34.187365Z",
          "shell.execute_reply": "2025-02-13T17:05:34.187244Z"
        }
      },
      "outputs": [],
      "execution_count": null
    },
    {
      "cell_type": "code",
      "source": [
        "# gender religion age ethnicity other_cyberbullying\n",
        "not_bully_df = bully_df[bully_df['type'] == 'not_cyberbullying']\n",
        "gender_bully_df = bully_df[bully_df['type'] == 'gender']\n",
        "religion_bully_df = bully_df[bully_df['type'] == 'religion']\n",
        "age_bully_df = bully_df[bully_df['type'] == 'age']\n",
        "ethnicity_bully_df = bully_df[bully_df['type'] == 'ethnicity']\n",
        "other_bully_df = bully_df[bully_df['type'] == 'other_cyberbullying']\n",
        "all_bully_df = bully_df[bully_df['type'] != 'not_cyberbullying']\n",
        "\n",
        "print(not_bully_df.shape)\n",
        "print(gender_bully_df.shape)\n",
        "print(religion_bully_df.shape)\n",
        "print(age_bully_df.shape)\n",
        "print(ethnicity_bully_df.shape)\n",
        "print(other_bully_df.shape)\n",
        "print(all_bully_df.shape)"
      ],
      "metadata": {
        "id": "yHyA-P1YXi2U",
        "trusted": true,
        "execution": {
          "iopub.status.busy": "2025-02-13T17:05:34.188046Z",
          "iopub.status.idle": "2025-02-13T17:05:34.188317Z",
          "shell.execute_reply": "2025-02-13T17:05:34.188212Z"
        }
      },
      "outputs": [],
      "execution_count": null
    },
    {
      "cell_type": "code",
      "source": [
        "not_bully_df.tail()"
      ],
      "metadata": {
        "id": "ZD49zXcIlvHc",
        "trusted": true,
        "execution": {
          "iopub.status.busy": "2025-02-13T17:05:34.188996Z",
          "iopub.status.idle": "2025-02-13T17:05:34.189251Z",
          "shell.execute_reply": "2025-02-13T17:05:34.189126Z"
        }
      },
      "outputs": [],
      "execution_count": null
    },
    {
      "cell_type": "code",
      "source": [
        "# sampled_not_bully_df = not_bully_df.sample(n=2000, random_state=42)\n",
        "# sampled_gender_bully_df = gender_bully_df.sample(n=1200, random_state=42)\n",
        "# sampled_age_bully_df = age_bully_df.sample(n=1200, random_state=42)\n",
        "# sampled_religion_bully_df = religion_bully_df.sample(n=1200, random_state=42)\n",
        "# sampled_ethnicity_bully_df = ethnicity_bully_df.sample(n=1200, random_state=42)\n",
        "# sampled_other_bully_df = other_bully_df.sample(n=1200, random_state=42)\n",
        "\n",
        "sampled_not_bully_df = not_bully_df.sample(n=7000, random_state=42)\n",
        "sampled_gender_bully_df = gender_bully_df.sample(n=1750, random_state=42)\n",
        "sampled_age_bully_df = age_bully_df.sample(n=1750, random_state=42)\n",
        "sampled_religion_bully_df = religion_bully_df.sample(n=1750, random_state=42)\n",
        "sampled_ethnicity_bully_df = ethnicity_bully_df.sample(n=1750, random_state=42)\n",
        "sampled_other_bully_df = []\n",
        "\n",
        "sampled2_not_bully_df = not_bully_df.sample(n=3000, random_state=42)\n",
        "sampled2_gender_bully_df = gender_bully_df.sample(n=600, random_state=42)\n",
        "sampled2_age_bully_df = age_bully_df.sample(n=600, random_state=42)\n",
        "sampled2_religion_bully_df = religion_bully_df.sample(n=600, random_state=42)\n",
        "sampled2_ethnicity_bully_df = ethnicity_bully_df.sample(n=600, random_state=42)\n",
        "sampled2_other_bully_df = other_bully_df.sample(n=600, random_state=42)"
      ],
      "metadata": {
        "id": "DSVnf6TiayHR",
        "trusted": true,
        "execution": {
          "iopub.status.busy": "2025-02-13T17:05:34.189718Z",
          "iopub.status.idle": "2025-02-13T17:05:34.189992Z",
          "shell.execute_reply": "2025-02-13T17:05:34.189876Z"
        }
      },
      "outputs": [],
      "execution_count": null
    },
    {
      "cell_type": "code",
      "source": [
        "sampled_gender_bully_df.shape"
      ],
      "metadata": {
        "id": "N4wassWhmlxi",
        "trusted": true,
        "execution": {
          "iopub.status.busy": "2025-02-13T17:05:34.190455Z",
          "iopub.status.idle": "2025-02-13T17:05:34.19073Z",
          "shell.execute_reply": "2025-02-13T17:05:34.1906Z"
        }
      },
      "outputs": [],
      "execution_count": null
    },
    {
      "cell_type": "code",
      "source": [
        "sampled_gender_bully_df.tail()"
      ],
      "metadata": {
        "id": "tjcB7Thcc9Kn",
        "trusted": true,
        "execution": {
          "iopub.status.busy": "2025-02-13T17:05:34.191381Z",
          "iopub.status.idle": "2025-02-13T17:05:34.191629Z",
          "shell.execute_reply": "2025-02-13T17:05:34.191514Z"
        }
      },
      "outputs": [],
      "execution_count": null
    },
    {
      "cell_type": "code",
      "source": [
        "final_df = pd.concat([sampled_not_bully_df, sampled_gender_bully_df, sampled_age_bully_df, sampled_religion_bully_df, sampled_ethnicity_bully_df], ignore_index=True)\n",
        "# final_df['tweet'] = final_df['tweetsplit'].apply(lambda x: ([w for w in x if len(w)>=3]))"
      ],
      "metadata": {
        "id": "l6EbatYVdj5p",
        "trusted": true,
        "execution": {
          "iopub.status.busy": "2025-02-13T17:05:34.19215Z",
          "iopub.status.idle": "2025-02-13T17:05:34.192412Z",
          "shell.execute_reply": "2025-02-13T17:05:34.192292Z"
        }
      },
      "outputs": [],
      "execution_count": null
    },
    {
      "cell_type": "code",
      "source": [
        "final2_df = pd.concat([sampled2_not_bully_df, sampled2_gender_bully_df, sampled2_age_bully_df, sampled2_religion_bully_df, sampled2_ethnicity_bully_df, sampled2_other_bully_df], ignore_index=True)\n",
        "# final2_df['tweet'] = final2_df['tweetsplit'].apply(lambda x: ([w for w in x if len(w)>=3]))"
      ],
      "metadata": {
        "id": "KQV57lCVbBL0",
        "trusted": true,
        "execution": {
          "iopub.status.busy": "2025-02-13T17:05:34.192949Z",
          "iopub.status.idle": "2025-02-13T17:05:34.193199Z",
          "shell.execute_reply": "2025-02-13T17:05:34.193106Z"
        }
      },
      "outputs": [],
      "execution_count": null
    },
    {
      "cell_type": "code",
      "source": [
        "final_df.tail(20)"
      ],
      "metadata": {
        "id": "akRd22tGt0Jx",
        "trusted": true,
        "execution": {
          "iopub.status.busy": "2025-02-13T17:05:34.193578Z",
          "iopub.status.idle": "2025-02-13T17:05:34.193822Z",
          "shell.execute_reply": "2025-02-13T17:05:34.193735Z"
        }
      },
      "outputs": [],
      "execution_count": null
    },
    {
      "cell_type": "code",
      "source": [
        "maximum_length=356\n",
        "# xx = pad_sequences(final_df['tweetcnn'], maxlen=maximum_length)\n"
      ],
      "metadata": {
        "id": "T_hdwbz9_3l_",
        "trusted": true,
        "execution": {
          "iopub.status.busy": "2025-02-13T17:05:34.194346Z",
          "iopub.status.idle": "2025-02-13T17:05:34.194547Z",
          "shell.execute_reply": "2025-02-13T17:05:34.194467Z"
        }
      },
      "outputs": [],
      "execution_count": null
    },
    {
      "cell_type": "code",
      "source": [
        "final2_df.loc[final2_df['type']!='not_cyberbullying','type'] = 'yes'\n",
        "final2_df.loc[final2_df['type']=='not_cyberbullying','type'] = 'no'"
      ],
      "metadata": {
        "id": "G5IAuGQ6ewbp",
        "trusted": true,
        "execution": {
          "iopub.status.busy": "2025-02-13T17:05:34.195425Z",
          "iopub.status.idle": "2025-02-13T17:05:34.195633Z",
          "shell.execute_reply": "2025-02-13T17:05:34.19555Z"
        }
      },
      "outputs": [],
      "execution_count": null
    },
    {
      "cell_type": "code",
      "source": [
        "# def allign(text):\n",
        "#   while len(text)<5:\n",
        "#     text.append('<oov>')\n",
        "#   return text\n",
        "\n",
        "# final_df['tweet'] = final_df['tweet'].apply(allign)\n",
        "# final2_df['tweet'] = final2_df['tweet'].apply(allign)"
      ],
      "metadata": {
        "id": "G_m7Hdtsvi80",
        "trusted": true,
        "execution": {
          "iopub.status.busy": "2025-02-13T17:05:34.196087Z",
          "iopub.status.idle": "2025-02-13T17:05:34.19629Z",
          "shell.execute_reply": "2025-02-13T17:05:34.196202Z"
        }
      },
      "outputs": [],
      "execution_count": null
    },
    {
      "cell_type": "code",
      "source": [
        "mapping = {'not_cyberbullying': 0, 'gender': 1, 'age': 1, 'ethnicity': 1, 'religion':1, 'other_cyberbullying':1}\n",
        "mapping2 = {'yes': 1, 'no': 0}"
      ],
      "metadata": {
        "id": "U-CCjtGAoq5u",
        "trusted": true,
        "execution": {
          "iopub.status.busy": "2025-02-13T17:05:34.197043Z",
          "iopub.status.idle": "2025-02-13T17:05:34.197331Z",
          "shell.execute_reply": "2025-02-13T17:05:34.197185Z"
        }
      },
      "outputs": [],
      "execution_count": null
    },
    {
      "cell_type": "code",
      "source": [
        "final_df.tail(20)"
      ],
      "metadata": {
        "id": "5vBSnJ_atL0m",
        "trusted": true,
        "execution": {
          "iopub.status.busy": "2025-02-13T17:05:34.19779Z",
          "iopub.status.idle": "2025-02-13T17:05:34.198355Z",
          "shell.execute_reply": "2025-02-13T17:05:34.198149Z"
        }
      },
      "outputs": [],
      "execution_count": null
    },
    {
      "cell_type": "code",
      "source": [
        "final_df['type'] = final_df['type'].map(mapping)\n",
        "final2_df['type'] = final2_df['type'].map(mapping2)"
      ],
      "metadata": {
        "id": "nmFaz-sRpZ6p",
        "trusted": true,
        "execution": {
          "iopub.status.busy": "2025-02-13T17:05:34.198751Z",
          "iopub.status.idle": "2025-02-13T17:05:34.198972Z",
          "shell.execute_reply": "2025-02-13T17:05:34.198888Z"
        }
      },
      "outputs": [],
      "execution_count": null
    },
    {
      "cell_type": "code",
      "source": [
        "final_df.tail(20)"
      ],
      "metadata": {
        "id": "1kzlydm-d0mb",
        "trusted": true,
        "execution": {
          "iopub.status.busy": "2025-02-13T17:05:34.199731Z",
          "iopub.status.idle": "2025-02-13T17:05:34.200012Z",
          "shell.execute_reply": "2025-02-13T17:05:34.199896Z"
        }
      },
      "outputs": [],
      "execution_count": null
    },
    {
      "cell_type": "code",
      "source": [
        "final_df.shape"
      ],
      "metadata": {
        "id": "MLrxzJXinJIM",
        "trusted": true,
        "execution": {
          "iopub.status.busy": "2025-02-13T17:05:34.200398Z",
          "iopub.status.idle": "2025-02-13T17:05:34.200681Z",
          "shell.execute_reply": "2025-02-13T17:05:34.20056Z"
        }
      },
      "outputs": [],
      "execution_count": null
    },
    {
      "cell_type": "code",
      "source": [
        "NUM_WORDS = 30000\n",
        "\n",
        "# Define/Load Tokenize text function\n",
        "tokenizer = Tokenizer(num_words=NUM_WORDS,filters='!\"#$%&()*+,-./:;<=>?@[\\\\]^_`{|}~\\t\\n\\'',\n",
        "                      lower=True)\n",
        "\n",
        "# Fit the function on the text\n",
        "tokenizer.fit_on_texts(final_df['tweet'])\n",
        "\n",
        "# Count number of unique tokens\n",
        "word_index = tokenizer.word_index\n",
        "print('Found %s unique tokens.'  %len(word_index))"
      ],
      "metadata": {
        "id": "RgGk46VTD9vO",
        "trusted": true,
        "execution": {
          "iopub.status.busy": "2025-02-13T17:05:34.2012Z",
          "iopub.status.idle": "2025-02-13T17:05:34.201422Z",
          "shell.execute_reply": "2025-02-13T17:05:34.201329Z"
        }
      },
      "outputs": [],
      "execution_count": null
    },
    {
      "cell_type": "code",
      "source": [
        "final_df['tweetseq'] = tokenizer.texts_to_sequences(final_df['tweet'])"
      ],
      "metadata": {
        "id": "yIyZ4UHdR49d",
        "trusted": true,
        "execution": {
          "iopub.status.busy": "2025-02-13T17:05:34.202124Z",
          "iopub.status.idle": "2025-02-13T17:05:34.202356Z",
          "shell.execute_reply": "2025-02-13T17:05:34.20226Z"
        }
      },
      "outputs": [],
      "execution_count": null
    },
    {
      "cell_type": "code",
      "source": [
        "print(final_df['tweetseq'].dtype)"
      ],
      "metadata": {
        "id": "lzDMMLOhLLeL",
        "trusted": true,
        "execution": {
          "iopub.status.busy": "2025-02-13T17:05:34.202873Z",
          "iopub.status.idle": "2025-02-13T17:05:34.203133Z",
          "shell.execute_reply": "2025-02-13T17:05:34.203014Z"
        }
      },
      "outputs": [],
      "execution_count": null
    },
    {
      "cell_type": "code",
      "source": [
        "final_df.tail(20)"
      ],
      "metadata": {
        "id": "p46k3Q__SoM-",
        "trusted": true,
        "execution": {
          "iopub.status.busy": "2025-02-13T17:05:34.203672Z",
          "iopub.status.idle": "2025-02-13T17:05:34.203942Z",
          "shell.execute_reply": "2025-02-13T17:05:34.203835Z"
        }
      },
      "outputs": [],
      "execution_count": null
    },
    {
      "cell_type": "code",
      "source": [
        "print(final_df['tweetseq'].shape)"
      ],
      "metadata": {
        "id": "i9FVAhM_OOzp",
        "trusted": true,
        "execution": {
          "iopub.status.busy": "2025-02-13T17:05:34.204505Z",
          "iopub.status.idle": "2025-02-13T17:05:34.204777Z",
          "shell.execute_reply": "2025-02-13T17:05:34.204674Z"
        }
      },
      "outputs": [],
      "execution_count": null
    },
    {
      "cell_type": "code",
      "source": [
        "# def pad(seq):\n",
        "#   print(seq)\n",
        "#   return pad_sequences(seq,maxlen=150)\n",
        "\n",
        "seq=final_df['tweetseq'].tolist()\n",
        "padded = pad_sequences(seq,maxlen=150,padding='post')\n",
        "padded"
      ],
      "metadata": {
        "id": "BL6p_a4RUGcX",
        "trusted": true,
        "execution": {
          "iopub.status.busy": "2025-02-13T17:05:34.205838Z",
          "iopub.status.idle": "2025-02-13T17:05:34.206343Z",
          "shell.execute_reply": "2025-02-13T17:05:34.206156Z"
        }
      },
      "outputs": [],
      "execution_count": null
    },
    {
      "cell_type": "code",
      "source": [
        "padded.shape"
      ],
      "metadata": {
        "id": "xyrxfor6NvzA",
        "trusted": true,
        "execution": {
          "iopub.status.busy": "2025-02-13T17:05:34.207098Z",
          "iopub.status.idle": "2025-02-13T17:05:34.207454Z",
          "shell.execute_reply": "2025-02-13T17:05:34.207305Z"
        }
      },
      "outputs": [],
      "execution_count": null
    },
    {
      "cell_type": "code",
      "source": [
        "final_df['tweetseq'] = list(padded)"
      ],
      "metadata": {
        "id": "2Y5klznLTDC2",
        "trusted": true,
        "execution": {
          "iopub.status.busy": "2025-02-13T17:05:34.208235Z",
          "iopub.status.idle": "2025-02-13T17:05:34.208569Z",
          "shell.execute_reply": "2025-02-13T17:05:34.208427Z"
        }
      },
      "outputs": [],
      "execution_count": null
    },
    {
      "cell_type": "code",
      "source": [
        "final_df.tail(20)"
      ],
      "metadata": {
        "id": "749b7-3wTQqy",
        "trusted": true,
        "execution": {
          "iopub.status.busy": "2025-02-13T17:05:34.209411Z",
          "iopub.status.idle": "2025-02-13T17:05:34.209749Z",
          "shell.execute_reply": "2025-02-13T17:05:34.209584Z"
        }
      },
      "outputs": [],
      "execution_count": null
    },
    {
      "cell_type": "code",
      "source": [
        "NUM_WORDS=len(word_index)+1\n",
        "EMBEDDING_DIM=300\n",
        "vocabulary_size=min(len(word_index)+1,(NUM_WORDS))\n",
        "\n",
        "embedding_matrix = np.zeros((vocabulary_size, EMBEDDING_DIM))"
      ],
      "metadata": {
        "id": "OtIncB-tAH5n",
        "trusted": true,
        "execution": {
          "iopub.status.busy": "2025-02-13T17:05:34.210421Z",
          "iopub.status.idle": "2025-02-13T17:05:34.210772Z",
          "shell.execute_reply": "2025-02-13T17:05:34.210605Z"
        }
      },
      "outputs": [],
      "execution_count": null
    },
    {
      "cell_type": "code",
      "source": [
        "wp=[]\n",
        "for word, i in word_index.items():\n",
        "    if i>=NUM_WORDS:\n",
        "        continue\n",
        "    if word in model1.wv:\n",
        "      embedding_vector = model1.wv[word]\n",
        "      embedding_matrix[i] = embedding_vector\n",
        "    else:\n",
        "      fl=0\n",
        "      for x in bad_word:\n",
        "        if x in word:\n",
        "          embedding_vector = model1.wv[x]\n",
        "          embedding_matrix[i] = embedding_vector\n",
        "          fl=1\n",
        "          break\n",
        "      if fl==0 :\n",
        "        wp.append(word)\n",
        "    # try:\n",
        "    #     embedding_vector = word_vectors[word]\n",
        "    #     embedding_matrix[i] = embedding_vector\n",
        "    # except KeyError:\n",
        "    #     wp.append(word)\n",
        "    #     embedding_matrix[i]=np.zeros(300)\n",
        "# ' '.join(wp)"
      ],
      "metadata": {
        "id": "wZcHTQjvAm59",
        "trusted": true,
        "execution": {
          "iopub.status.busy": "2025-02-13T17:05:34.21141Z",
          "iopub.status.idle": "2025-02-13T17:05:34.211752Z",
          "shell.execute_reply": "2025-02-13T17:05:34.211587Z"
        }
      },
      "outputs": [],
      "execution_count": null
    },
    {
      "cell_type": "code",
      "source": [
        "final_df['type'].value_counts()"
      ],
      "metadata": {
        "id": "RQYpjrAGAAt3",
        "trusted": true,
        "execution": {
          "iopub.status.busy": "2025-02-13T17:05:34.212474Z",
          "iopub.status.idle": "2025-02-13T17:05:34.212812Z",
          "shell.execute_reply": "2025-02-13T17:05:34.212672Z"
        }
      },
      "outputs": [],
      "execution_count": null
    },
    {
      "cell_type": "code",
      "source": [
        "sequence_length=150\n",
        "drop=0.2\n",
        "model = Sequential()\n",
        "NUM_WORDS=len(word_index)+1\n",
        "\n",
        "model.add(Embedding(input_dim=NUM_WORDS,\n",
        "                    output_dim=EMBEDDING_DIM,\n",
        "                    weights=[embedding_matrix],\n",
        "                    input_length=sequence_length,\n",
        "                    trainable=True))\n",
        "\n",
        "model.add(Bidirectional(LSTM(512, return_sequences = True)))\n",
        "model.add(GlobalMaxPooling1D())\n",
        "\n",
        "\n",
        "\n",
        "model.add(Dense(40, activation='relu'))\n",
        "\n",
        "model.add(Dense(20, activation='relu'))\n",
        "\n",
        "model.add(Dense(units=1, activation='sigmoid'))"
      ],
      "metadata": {
        "id": "HxUot_aC6_Go",
        "trusted": true,
        "execution": {
          "iopub.status.busy": "2025-02-13T17:05:34.213362Z",
          "iopub.status.idle": "2025-02-13T17:05:34.213681Z",
          "shell.execute_reply": "2025-02-13T17:05:34.213527Z"
        }
      },
      "outputs": [],
      "execution_count": null
    },
    {
      "cell_type": "code",
      "source": [
        "X = np.array(final_df['tweetseq'].tolist(), dtype=np.float64)\n",
        "y=final_df['type']\n",
        "yc=y"
      ],
      "metadata": {
        "id": "Lt8XQlVSEkzS",
        "trusted": true,
        "execution": {
          "iopub.status.busy": "2025-02-13T17:05:34.214293Z",
          "iopub.status.idle": "2025-02-13T17:05:34.21462Z",
          "shell.execute_reply": "2025-02-13T17:05:34.214469Z"
        }
      },
      "outputs": [],
      "execution_count": null
    },
    {
      "cell_type": "code",
      "source": [
        "print(X.shape,yc.shape)"
      ],
      "metadata": {
        "id": "bqD75F6SG7Xr",
        "trusted": true,
        "execution": {
          "iopub.status.busy": "2025-02-13T17:05:34.215242Z",
          "iopub.status.idle": "2025-02-13T17:05:34.21554Z",
          "shell.execute_reply": "2025-02-13T17:05:34.215411Z"
        }
      },
      "outputs": [],
      "execution_count": null
    },
    {
      "cell_type": "code",
      "source": [
        "X_train, X_test, y_train, y_test = train_test_split(X, yc, test_size=0.30, random_state=42)\n",
        "X_train, X_val, y_train, y_val = train_test_split(X_train, y_train, test_size=0.15, random_state=42)"
      ],
      "metadata": {
        "id": "kBqOrcDCG_Fj",
        "trusted": true,
        "execution": {
          "iopub.status.busy": "2025-02-13T17:05:34.216813Z",
          "iopub.status.idle": "2025-02-13T17:05:34.217301Z",
          "shell.execute_reply": "2025-02-13T17:05:34.217084Z"
        }
      },
      "outputs": [],
      "execution_count": null
    },
    {
      "cell_type": "code",
      "source": [
        "from sklearn.utils import class_weight\n",
        "yy=np.unique(y_train)\n",
        "opt = Adam(learning_rate=1e-3)\n",
        "model.compile(loss='binary_crossentropy',optimizer=opt, metrics=['accuracy'])\n",
        "checkpoint = ModelCheckpoint(\n",
        "    filepath='best_model.keras',        # Filepath to save the model\n",
        "    monitor='val_loss',             # Metric to monitor (e.g., 'val_accuracy', 'val_loss')\n",
        "    save_best_only=True,            # Save only the best model\n",
        "    mode='min',                     # 'min' for loss, 'max' for accuracy\n",
        "    verbose=1                       # Display messages\n",
        ")\n",
        "\n",
        "callbacks = [EarlyStopping(monitor='val_loss'),checkpoint]\n",
        "hist_adam = model.fit(X_train, y_train, batch_size=500, epochs=30, validation_data=(X_val, y_val), callbacks=callbacks)  # starts training"
      ],
      "metadata": {
        "id": "dGICWCLCJrMy",
        "trusted": true,
        "execution": {
          "iopub.status.busy": "2025-02-13T17:05:34.217831Z",
          "iopub.status.idle": "2025-02-13T17:05:34.218062Z",
          "shell.execute_reply": "2025-02-13T17:05:34.217966Z"
        }
      },
      "outputs": [],
      "execution_count": null
    },
    {
      "cell_type": "code",
      "source": [
        "plt.suptitle('Optimizer : Adam', fontsize=10)\n",
        "plt.ylabel('Loss', fontsize=16)\n",
        "plt.xlabel('Epoch', fontsize=14)\n",
        "plt.plot(hist_adam.history['loss'], color='b', label='Training Loss')\n",
        "plt.plot(hist_adam.history['val_loss'], color='r', label='Validation Loss')\n",
        "plt.legend(loc='upper right')"
      ],
      "metadata": {
        "id": "BT796C0yfw0c",
        "trusted": true,
        "execution": {
          "iopub.status.busy": "2025-02-13T17:05:34.218734Z",
          "iopub.status.idle": "2025-02-13T17:05:34.219024Z",
          "shell.execute_reply": "2025-02-13T17:05:34.218902Z"
        }
      },
      "outputs": [],
      "execution_count": null
    },
    {
      "cell_type": "code",
      "source": [
        "best_model = load_model('best_model.keras')\n",
        "prob = best_model.predict(X_test)\n",
        "\n",
        "y_pred=[]\n",
        "for xx in prob:\n",
        "  if xx>=0.5:\n",
        "    y_pred.append(1)\n",
        "  else:\n",
        "    y_pred.append(0)\n",
        "\n",
        "# y_pred\n",
        "yy=y_test\n",
        "\n",
        "\n",
        "cnf_matrix = metrics.confusion_matrix(yy, y_pred)\n",
        "cnf_matrix\n",
        "\n"
      ],
      "metadata": {
        "id": "6NZ13a0upgjP",
        "trusted": true,
        "execution": {
          "iopub.status.busy": "2025-02-13T17:05:34.219712Z",
          "iopub.status.idle": "2025-02-13T17:05:34.220023Z",
          "shell.execute_reply": "2025-02-13T17:05:34.219887Z"
        }
      },
      "outputs": [],
      "execution_count": null
    },
    {
      "cell_type": "code",
      "source": [
        "class_names=['no_bully', 'bully'] # name  of classes\n",
        "fig, ax = plt.subplots(figsize=(3,3))\n",
        "\n",
        "# create heatmap\n",
        "sns.heatmap(cnf_matrix, annot=True, cmap=\"YlGnBu\", fmt='g', cbar=False)\n",
        "ax.set_xticklabels(class_names, rotation=45, ha='right')  # Rotate x-ticks for readability\n",
        "ax.set_yticklabels(class_names, rotation=0)\n",
        "ax.xaxis.set_label_position(\"top\")\n",
        "plt.tight_layout()\n",
        "plt.title('Confusion matrix', y=1.1)\n",
        "plt.ylabel('Actual label')\n",
        "plt.xlabel('Predicted label(lstm)')\n"
      ],
      "metadata": {
        "id": "L-7kwzAmtvvX",
        "trusted": true,
        "execution": {
          "iopub.status.busy": "2025-02-13T17:05:34.220699Z",
          "iopub.status.idle": "2025-02-13T17:05:34.220998Z",
          "shell.execute_reply": "2025-02-13T17:05:34.220868Z"
        }
      },
      "outputs": [],
      "execution_count": null
    },
    {
      "cell_type": "code",
      "source": [
        "target_names = ['no_bully', 'bully']\n",
        "print(classification_report(yy, y_pred, target_names=target_names))"
      ],
      "metadata": {
        "id": "IDMCEJ440r9o",
        "trusted": true,
        "execution": {
          "iopub.status.busy": "2025-02-13T17:05:34.22164Z",
          "iopub.status.idle": "2025-02-13T17:05:34.221974Z",
          "shell.execute_reply": "2025-02-13T17:05:34.22184Z"
        }
      },
      "outputs": [],
      "execution_count": null
    },
    {
      "cell_type": "code",
      "source": [
        "accuracy = accuracy_score(yy, y_pred)\n",
        "print(f\"Model Accuracy: {accuracy:.2f}\")"
      ],
      "metadata": {
        "id": "JC-4hXy5IQeX",
        "trusted": true,
        "execution": {
          "iopub.status.busy": "2025-02-13T17:05:34.222575Z",
          "iopub.status.idle": "2025-02-13T17:05:34.222928Z",
          "shell.execute_reply": "2025-02-13T17:05:34.222796Z"
        }
      },
      "outputs": [],
      "execution_count": null
    },
    {
      "cell_type": "code",
      "source": [
        "\n",
        "# Plot ROC curve for each class\n",
        "plt.figure(figsize=(6,5))\n",
        "yy=[]\n",
        "yy.append(y_test)\n",
        "yy.append(1-y_test)\n",
        "pr=[]\n",
        "pr.append(prob)\n",
        "pr.append(1-prob)\n",
        "\n",
        "for i in range(2):\n",
        "    fpr, tpr, _ = roc_curve(yy[i], pr[i])\n",
        "    roc_auc = auc(fpr, tpr)\n",
        "    plt.plot(fpr, tpr, label=f'Class {class_names[i]} (AUC = {roc_auc:.2f})')\n",
        "\n",
        "# Plot the diagonal line for random guessing\n",
        "plt.plot([0, 1], [0, 1], 'k--', label='Random Guessing')\n",
        "\n",
        "# Label the plot\n",
        "plt.xlabel('False Positive Rate')\n",
        "plt.ylabel('True Positive Rate')\n",
        "plt.title('ROC Curve for Each Class')\n",
        "plt.legend(loc='best')\n",
        "plt.show()"
      ],
      "metadata": {
        "id": "quG61acR1QCS",
        "trusted": true,
        "execution": {
          "iopub.status.busy": "2025-02-13T17:05:34.223782Z",
          "iopub.status.idle": "2025-02-13T17:05:34.224123Z",
          "shell.execute_reply": "2025-02-13T17:05:34.223991Z"
        }
      },
      "outputs": [],
      "execution_count": null
    },
    {
      "cell_type": "code",
      "source": [],
      "metadata": {
        "id": "wgausB4VxrHW",
        "trusted": true
      },
      "outputs": [],
      "execution_count": null
    }
  ]
}